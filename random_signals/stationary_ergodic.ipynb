{
 "cells": [
  {
   "cell_type": "markdown",
   "metadata": {
    "nbsphinx": "hidden"
   },
   "source": [
    "# Random Signals\n",
    "\n",
    "*This jupyter notebook is part of a [collection of notebooks](../index.ipynb) on various topics of Digital Signal Processing. Please direct questions and suggestions to [Sascha.Spors@uni-rostock.de](mailto:Sascha.Spors@uni-rostock.de).*"
   ]
  },
  {
   "cell_type": "markdown",
   "metadata": {},
   "source": [
    "## Stationary Random Processes"
   ]
  },
  {
   "cell_type": "markdown",
   "metadata": {},
   "source": [
    "### Definition\n",
    "\n",
    "When the average statistical properties of a random process do not depend on the time index $k$, this process is termed as [*stationary random process*](https://en.wikipedia.org/wiki/Stationary_process). This can be expressed formally as\n",
    "\n",
    "\\begin{equation}\n",
    "E\\{ f(x[k_1], x[k_2], \\dots) \\} = E\\{ f(x[k_1 + \\Delta], x[k_2 + \\Delta], \\dots) \\},\n",
    "\\end{equation}\n",
    "\n",
    "where $\\Delta \\in \\mathbb{Z}$ denotes an arbitrary shift of the sample index $k$. Above condition has to hold for all possible mapping functions $f(\\cdot)$. From this definition it becomes clear that\n",
    "\n",
    "* random signals of finite length and\n",
    "* deterministic signals $s[k] \\neq C$ with $C \\in \\mathbb{R}$\n",
    "\n",
    "cannot be stationary random processes in a strict sense. However, in practice it is often assumed to be sufficient if above condition holds within a finite interval of sample indexes of a random signal."
   ]
  },
  {
   "cell_type": "markdown",
   "metadata": {},
   "source": [
    "### Cumulative Distribution Functions and Probability Density Functions\n",
    "\n",
    "It follows from above definition of a stationary process, that the univariate cumulative distribution function (CDF) of a stationary random process does not depend on the time index $k$\n",
    "\n",
    "\\begin{equation}\n",
    "P_x(\\theta, k) = P_x(\\theta).\n",
    "\\end{equation}\n",
    "\n",
    "The same holds for the univariate probability density function (PDF)\n",
    "\n",
    "\\begin{equation}\n",
    "p_x(\\theta, k) = p_x(\\theta).\n",
    "\\end{equation}\n",
    "\n",
    "The bivariate CDF of two stationary random signals $x[k]$ and $y[k]$ depends only on the difference $\\kappa = k_x - k_y$\n",
    "\n",
    "\\begin{equation}\n",
    "P_{xy}(\\theta_x, \\theta_y, k_x, k_y) = P_{xy}(\\theta_x, \\theta_y, \\kappa).\n",
    "\\end{equation}\n",
    "\n",
    "The same holds for the bivariate PDF\n",
    "\n",
    "\\begin{equation}\n",
    "p_{xy}(\\theta_x, \\theta_y, k_x, k_y) = p_{xy}(\\theta_x, \\theta_y, \\kappa).\n",
    "\\end{equation}"
   ]
  },
  {
   "cell_type": "markdown",
   "metadata": {},
   "source": [
    "### First-Order Ensemble Averages\n",
    "\n",
    "According to above definition of stationarity, for the first-order ensemble average of a stationary process the following relation must hold\n",
    "\n",
    "\\begin{equation}\n",
    "E\\{ f(x[k]) \\} = E\\{ f(x[k + \\Delta]) \\},\n",
    "\\end{equation}\n",
    "\n",
    "hence, it does not depend on the time index $k$. For the linear mean this yields \n",
    "\n",
    "\\begin{equation}\n",
    "\\mu_x[k] = \\mu_x\n",
    "\\end{equation}\n",
    "\n",
    "and for the variance we get\n",
    "\n",
    "\\begin{equation}\n",
    "\\sigma_x^2[k] = \\sigma_x^2.\n",
    "\\end{equation}"
   ]
  },
  {
   "cell_type": "markdown",
   "metadata": {},
   "source": [
    "### Cross- and Auto-Correlation Function\n",
    "\n",
    "By introducing the PDF's properties of a stationary process into their definitions, it follows\n",
    "\n",
    "- for the cross-correlation function (CCF) with $\\kappa = k_x - k_y$\n",
    "\n",
    "\\begin{equation}\n",
    "\\varphi_{xy}[k_x, k_y] = \\varphi_{xy}[\\kappa] = E\\{ x[k] \\cdot y[k-\\kappa]\\} = E\\{ x[k+\\kappa] \\cdot y[k]\\}\n",
    "\\end{equation}\n",
    "\n",
    "- for the auto-correlation function (ACF) with $\\kappa = k_1 - k_2$\n",
    "\n",
    "\\begin{equation}\n",
    "\\varphi_{xx}[k_1, k_2] = \\varphi_{xx}[\\kappa] = E\\{ x[k] \\cdot x[k-\\kappa]\\} = E\\{ x[k+\\kappa] \\cdot x[k]\\}.\n",
    "\\end{equation}\n",
    "\n",
    "Note that definition with respect to $\\kappa$ and indices $_{xy}$ might vary in literature, so it is worth to ensure which signal is shifted into which direction. Our convention is consistent with Matlab's `xcorr()` and Python's `scipy.signal.correlate()`."
   ]
  },
  {
   "cell_type": "markdown",
   "metadata": {},
   "source": [
    "## Wide-Sense Stationary Random Processes"
   ]
  },
  {
   "cell_type": "markdown",
   "metadata": {},
   "source": [
    "### Definition\n",
    "\n",
    "The definition of a stationary random process in the previous section must hold for any mapping function $f(\\cdot)$. In practice this cannot be checked in a strict sense. For a wide-sense stationary (WSS) random process the conditions for stationarity must hold only for linear mappings. This leads to the following two conditions, a WSS random process has to fulfill\n",
    "\n",
    "\\begin{equation}\n",
    "E\\{ x[k_1] \\cdot x[k_2] \\} = E\\{ x[k_1 + \\Delta] \\cdot x[k_2 + \\Delta] \\}\n",
    "\\end{equation}\n",
    "\n",
    "and\n",
    "\n",
    "\\begin{equation}\n",
    "E\\{ x[k] \\} = E\\{ x[k + \\Delta] \\}.\n",
    "\\end{equation}\n",
    "\n",
    "A random signal of finite length cannot be WSS in a strict sense."
   ]
  },
  {
   "cell_type": "markdown",
   "metadata": {},
   "source": [
    "### Example - Evaluation of Wide-Sense Stationarity\n",
    "\n",
    "Due to above definition of the WSS process characteristics it is sufficient to check the time dependence of the linear mean $x_\\mu[k]$ and the auto-correlation function $\\varphi_{xx}[k_1, k_2]$. Both quantities are estimated and plotted for two different random processes."
   ]
  },
  {
   "cell_type": "code",
   "execution_count": null,
   "metadata": {},
   "outputs": [],
   "source": [
    "%matplotlib inline\n",
    "import numpy as np\n",
    "import matplotlib.pyplot as plt\n",
    "\n",
    "L = 64  # number of random samples\n",
    "N = 1000  # number of sample functions\n",
    "\n",
    "# generate sample functions\n",
    "np.random.seed(1)\n",
    "x = np.random.normal(size=(N, L))\n",
    "x1 = x + np.tile(np.cos(2*np.pi/L*np.arange(L)), [N,1])\n",
    "h = 2*np.fft.irfft([1,1,1,0,0,0])  # simple lowpass filter\n",
    "x2 = np.asarray([np.convolve(x[n,:], h, mode='same') for n in range(N)])\n",
    "\n",
    "# compute and plot results\n",
    "def compute_plot_results(x):\n",
    "    \n",
    "    # estimate linear mean by ensemble average\n",
    "    mu = 1/N * np.sum(x, 0)\n",
    "    # estimate the auto-correlation function\n",
    "    acf = np.zeros((L, L))\n",
    "    for n in range(L):\n",
    "        for m in range(L):\n",
    "            acf[n, m] = 1/N * np.sum(x[:, n]*x[:, m], 0)\n",
    "    \n",
    "    plt.subplot(121)\n",
    "    plt.stem(mu, basefmt='C0:')\n",
    "    plt.title(r'Estimate of linear mean $\\hat{\\mu}_x[k]$')\n",
    "    plt.xlabel(r'$k$')\n",
    "    plt.ylabel(r'$\\hat{\\mu}[k]$')\n",
    "    plt.axis([0, L, -1.5, 1.5])\n",
    "\n",
    "    plt.subplot(122)\n",
    "    plt.pcolor(np.arange(L), np.arange(L), acf, vmin=-1, vmax=3)\n",
    "    plt.title(r'Estimate of ACF $\\hat{\\varphi}_{xx}[k_1, k_2]$')\n",
    "    plt.xlabel(r'$k_1$')\n",
    "    plt.ylabel(r'$k_2$')\n",
    "    plt.colorbar()\n",
    "    plt.autoscale(tight=True)\n",
    "\n",
    "    \n",
    "plt.figure(figsize = (10, 4))\n",
    "plt.gcf().suptitle('Random Process 1', fontsize=12, y=1.05)\n",
    "compute_plot_results(x1)\n",
    "\n",
    "plt.figure(figsize = (10, 4))\n",
    "plt.gcf().suptitle('Random Process 2', fontsize=12, y=1.05)\n",
    "compute_plot_results(x2)"
   ]
  },
  {
   "cell_type": "markdown",
   "metadata": {},
   "source": [
    "**Exercise**\n",
    "\n",
    "* Which process can be assumed to be WSS? Why?\n",
    "* Increase the number `N` of sample functions. Do the results support your initial assumption? \n",
    "\n",
    "Solution: Inspection of the estimated linear mean $\\hat{\\mu}_x[k]$ for the first random process reveals that it is highly dependent on the sample index $k$. The same holds for the ACF which depends on both sample indices $k_1$ and $k_2$. For the second random process, the estimated linear mean can be assumed to be approximately zero. Its ACF depends approximately only on the difference $\\kappa = k_1 - k_2$, as can be concluded from the diagonal structures in the plot. Increasing the number of sample functions $N$ increases the certainty of the estimates in the statistical sense."
   ]
  },
  {
   "cell_type": "markdown",
   "metadata": {},
   "source": [
    "## Higher-Order Temporal Averages\n",
    "\n",
    "Ensemble averages are defined as the average across all sample functions $x_n[k]$ for a particular time index $k$. So far, averaging over the sample index $k$ of one sample function was not considered. Such averaging is commonly termed as temporal averaging since the sample index $k$ represents time in many cases. For a stationary process, the higher-order temporal average along the $n$-th sample function is defined as\n",
    "\n",
    "\\begin{equation}\n",
    "\\overline{ f(x_n[k], x_n[k-\\kappa_1], x_n[k-\\kappa_2], \\dots) } = \\lim_{K \\to \\infty} \\frac{1}{2K + 1} \\sum_{k = -K}^{K} f(x_n[k], x_n[k-\\kappa_1], x_n[k-\\kappa_2], \\dots)\n",
    "\\end{equation}\n",
    "\n",
    "where $\\kappa_i \\in \\mathbb{Z} \\; \\forall i$. The introduced statistical measures, like the linear mean, variance and correlation functions, can be computed for each sample function by temporal averaging using a dedicated mapping functions $f(\\cdot)$. The linear mean as temporal average of the $n$-th sample function $x_n[k]$ is for instance given by\n",
    "\n",
    "\\begin{equation}\n",
    "\\overline{x_n[k]} = \\lim_{K \\to \\infty} \\frac{1}{2K + 1} \\sum_{k = -K}^{K} x_n[k].\n",
    "\\end{equation}\n",
    "\n",
    "Furthermore, the quadratic mean from simple quadratic mapping is given as\n",
    "\\begin{equation}\n",
    "\\lim_{K \\to \\infty} \\frac{1}{2K + 1} \\sum_{k = -K}^{K} x^2_n[k],\n",
    "\\end{equation}\n",
    "\n",
    "the variance is given as\n",
    "\\begin{equation}\n",
    "\\lim_{K \\to \\infty} \\frac{1}{2K + 1} \\sum_{k = -K}^{K} (x_n[k]-\\overline{x_n[k]})^2,\n",
    "\\end{equation}\n",
    "\n",
    "the cross-correlation as\n",
    "\\begin{equation}\n",
    "\\lim_{K \\to \\infty} \\frac{1}{2K + 1} \\sum_{k=-K}^{K} x[k] \\cdot y[k-\\kappa],\n",
    "\\end{equation}\n",
    "\n",
    "and the auto- correlation as\n",
    "\\begin{equation}\n",
    "\\lim_{K \\to \\infty} \\frac{1}{2K + 1} \\sum_{k=-K}^{K} x[k] \\cdot x[k-\\kappa].\n",
    "\\end{equation}\n",
    "\n",
    "These equations hold for power signals. Virtually all random signals are power signals rather than energy signals. "
   ]
  },
  {
   "cell_type": "markdown",
   "metadata": {},
   "source": [
    "## Ergodic Random Processes\n",
    "\n",
    "An [ergodic process](https://en.wikipedia.org/wiki/Ergodic_process) is a stationary random process whose higher-order temporal averages of all sample functions are equal to the ensemble averages\n",
    "\n",
    "\\begin{equation}\n",
    "\\overline{ f(x_n[k], x_n[k-\\kappa_1], x_n[k-\\kappa_2], \\dots) } = E\\{  f(x[k], x[k-\\kappa_1], x[k-\\kappa_2], \\dots)  \\} \\;\\; \\forall n.\n",
    "\\end{equation}\n",
    "\n",
    "This implies that all higher-order temporal averages are equal to the higher-order ensemble averages. Any sample function from the process represents the average statistical properties of the entire process. The ensemble averages for a stationary and ergodic random process are given by the temporal averages of one sample function. This result is very important for the practical computation of statistical properties of random signals."
   ]
  },
  {
   "cell_type": "markdown",
   "metadata": {},
   "source": [
    "## Wide-Sense Ergodic Random Processes"
   ]
  },
  {
   "cell_type": "markdown",
   "metadata": {},
   "source": [
    "### Definition\n",
    "\n",
    "As for a WSS process, the conditions for ergodicity have to hold only for linear mappings $f(\\cdot)$. Under the assumption of a WSS process, the following two conditions have to be met by a wide-sense ergodic random process\n",
    "\n",
    "\\begin{equation}\n",
    "\\overline{ x_n[k] \\cdot x_n[k-\\kappa] } = E\\{  x[k] \\cdot x[k-\\kappa]  \\} \\;\\; \\forall n\n",
    "\\end{equation}\n",
    "\n",
    "and\n",
    "\n",
    "\\begin{equation}\n",
    "\\overline{ x_n[k] } = E\\{  x[k] \\} \\;\\; \\forall n.\n",
    "\\end{equation}"
   ]
  },
  {
   "cell_type": "markdown",
   "metadata": {},
   "source": [
    "### Example - Evaluation of Wide-Sense Ergodicity\n",
    "\n",
    "In the following example, the linear mean and autocorrelation function are computed as temporal and ensemble averages for three random processes. The plots show the estimated temporal averages $\\overline{ x_n[k] }$ and $\\overline{ x_n[k] \\cdot x_n[k-\\kappa] }$ on the right-hand side of the sample functions $x_n[k]$. Note, the linear mean as temporal average is a scalar value whose value is illustrated by a bar plot. The estimated ensemble averages $E\\{  x[k] \\}$ and $E\\{  x[k_1] \\cdot x[k_2]  \\}$ are shown below the sample functions to indicate the averaging across sample functions."
   ]
  },
  {
   "cell_type": "code",
   "execution_count": null,
   "metadata": {},
   "outputs": [],
   "source": [
    "L = 64  # number of random samples\n",
    "N = 10000  # number of sample functions\n",
    "\n",
    "# generate sample functions\n",
    "np.random.seed(11)\n",
    "x = np.random.normal(size=(N, L))\n",
    "k = np.arange(L)\n",
    "x1 = x + np.tile(np.cos(2*np.pi/L*k), [N, 1])\n",
    "x2 = x + np.tile([np.ones(L), -np.ones(L)], [N//2, 1])\n",
    "x3 = x + np.ones([N, L])\n",
    "\n",
    "# function to compute and plot results\n",
    "def compute_plot_results(x):\n",
    "    \n",
    "    # estimate linear mean by ensemble average\n",
    "    mu = 1/N * np.sum(x, 0)\n",
    "    # estimate the auto-correlation function by ensemble average\n",
    "    acf = np.zeros((L, L))\n",
    "    for n in range(L):\n",
    "        for m in range(L):\n",
    "            acf[n, m] = 1/N * np.sum(x[:, n]*x[:, m], 0)\n",
    "    # estimate linear mean as temporal average\n",
    "    mut = 1/L * np.sum(x, 1)\n",
    "    # estimate the auto-correlation function as temporal average\n",
    "    acft = np.zeros((N, L))\n",
    "    for n in range(N):\n",
    "        acft[n, :] = np.correlate(x[n, :], x[n, :], mode='same')\n",
    "    kappa = np.arange(L) - L//2\n",
    "    \n",
    "    for n in range(2):\n",
    "        plt.figure(figsize = (10, 5))\n",
    "        plt.subplot(131)\n",
    "        plt.stem(x[n, :], basefmt='C0:')\n",
    "        plt.title(r'Sample function $x_%d[k]$'%n)\n",
    "        plt.xlabel(r'$k$')\n",
    "        plt.ylabel(r'$x_%d[k]$'%n)\n",
    "        plt.axis([0, L, -4, 4])\n",
    "        \n",
    "        plt.subplot(132)\n",
    "        plt.bar(-0.4, mut[n])\n",
    "        plt.title(r'Linear mean $\\overline{ x_%d[k] }$'%n)\n",
    "        plt.ylabel(r'$\\hat{\\mu}_{x,%d}$'%n)\n",
    "        plt.axis([-.5, .5, -1.5, 1.5])\n",
    "        \n",
    "        plt.subplot(133)\n",
    "        plt.stem(kappa, acft[n, :], basefmt='C0:')\n",
    "        plt.title(r'Autocorrelation $\\overline{ x_%d[k] \\cdot x_%d[k-\\kappa] }$'%(n,n))\n",
    "        plt.xlabel(r'$\\kappa$')\n",
    "        plt.ylabel(r'$\\hat{\\varphi}_{xx,%d}[\\kappa]$'%n)\n",
    "        plt.axis([-L//2, L//2, -30, 150])\n",
    "        plt.tight_layout()\n",
    "    \n",
    "    plt.figure(figsize = (10, 5))\n",
    "    plt.subplot(131)\n",
    "    plt.stem(mu)\n",
    "    plt.title(r'Linear mean $E\\{  x[k] \\}$')\n",
    "    plt.xlabel(r'$k$')\n",
    "    plt.ylabel(r'$\\hat{\\mu}[k]$')\n",
    "    plt.axis([0, L, -1.5, 1.5])\n",
    "    \n",
    "    plt.figure(figsize = (4, 4))\n",
    "    plt.pcolor(k, k, acf, vmin=-1.5, vmax=2.5)\n",
    "    plt.title(r'ACF $E\\{  x[k_1] \\cdot x[k_2]  \\}$')\n",
    "    plt.xlabel(r'$k_1$')\n",
    "    plt.ylabel(r'$k_2$')\n",
    "    plt.colorbar()\n",
    "    plt.autoscale(tight=True)"
   ]
  },
  {
   "cell_type": "markdown",
   "metadata": {},
   "source": [
    "**Random Process 1**"
   ]
  },
  {
   "cell_type": "code",
   "execution_count": null,
   "metadata": {},
   "outputs": [],
   "source": [
    "compute_plot_results(x1)"
   ]
  },
  {
   "cell_type": "markdown",
   "metadata": {},
   "source": [
    "**Random Process 2**"
   ]
  },
  {
   "cell_type": "code",
   "execution_count": null,
   "metadata": {},
   "outputs": [],
   "source": [
    "compute_plot_results(x2)"
   ]
  },
  {
   "cell_type": "markdown",
   "metadata": {},
   "source": [
    "**Random Process 3**"
   ]
  },
  {
   "cell_type": "code",
   "execution_count": null,
   "metadata": {},
   "outputs": [],
   "source": [
    "compute_plot_results(x3)"
   ]
  },
  {
   "cell_type": "markdown",
   "metadata": {},
   "source": [
    "**Exercise**\n",
    "\n",
    "* Which process can be assumed to be stationary and/or ergodic? Why?\n",
    "\n",
    "Solution: \n",
    "\n",
    "1. The linear mean $\\mu_x[k]$ estimated by the ensemble average of the first process depends on the sample index $k$. Consequently, this process is not stationary and also not ergodic.\n",
    "\n",
    "2. Inspection of the linear mean and auto-correlation function estimated by the ensemble averages of the second random process reveals that it can be assumed to be WSS. The linear mean as temporal average of the sample functions is not constant with respect to the sample functions. Consequently, this process can be assumed to be WSS but not ergodic. \n",
    "\n",
    "3. The third process can be assumed to be wide-sense stationary and ergodic."
   ]
  },
  {
   "cell_type": "markdown",
   "metadata": {
    "nbsphinx": "hidden"
   },
   "source": [
    "**Copyright**\n",
    "\n",
    "This notebook is provided as [Open Educational Resource](https://en.wikipedia.org/wiki/Open_educational_resources). Feel free to use the notebook for your own purposes. The text is licensed under [Creative Commons Attribution 4.0](https://creativecommons.org/licenses/by/4.0/), the code of the IPython examples under the [MIT license](https://opensource.org/licenses/MIT). Please attribute the work as follows: *Sascha Spors, Digital Signal Processing - Lecture notes featuring computational examples, 2016-2018*."
   ]
  }
 ],
 "metadata": {
  "kernelspec": {
   "display_name": "Python 3",
   "language": "python",
   "name": "python3"
  },
  "language_info": {
   "codemirror_mode": {
    "name": "ipython",
    "version": 3
   },
   "file_extension": ".py",
   "mimetype": "text/x-python",
   "name": "python",
   "nbconvert_exporter": "python",
   "pygments_lexer": "ipython3",
   "version": "3.7.2"
  }
 },
 "nbformat": 4,
 "nbformat_minor": 1
}

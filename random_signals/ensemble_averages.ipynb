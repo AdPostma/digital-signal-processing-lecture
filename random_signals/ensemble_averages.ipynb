{
 "cells": [
  {
   "cell_type": "markdown",
   "metadata": {
    "nbsphinx": "hidden"
   },
   "source": [
    "# Random Signals\n",
    "\n",
    "*This jupyter notebook is part of a [collection of notebooks](../index.ipynb) on various topics of Digital Signal Processing. Please direct questions and suggestions to [Sascha.Spors@uni-rostock.de](mailto:Sascha.Spors@uni-rostock.de).*"
   ]
  },
  {
   "cell_type": "markdown",
   "metadata": {},
   "source": [
    "## Ensemble Averages\n",
    "\n",
    "Ensemble averages characterize the average properties of a random process across the population of all possible sample functions in the ensemble. We distinguish between first- and higher-order ensemble averages. The former consider the average properties of the sample functions of one random process for one particular time-instant $k$, while the latter take more than one random process at different time-instants into account."
   ]
  },
  {
   "cell_type": "markdown",
   "metadata": {},
   "source": [
    "### First-Order Ensemble Averages"
   ]
  },
  {
   "cell_type": "markdown",
   "metadata": {},
   "source": [
    "#### Definition\n",
    "\n",
    "The first-order ensemble average of a continuous-amplitude real-valued random signal $x[k]$ is defined as\n",
    "\n",
    "\\begin{equation}\n",
    "E\\{ f(x[k]) \\} = \\lim_{N \\to \\infty} \\frac{1}{N} \\sum_{n=0}^{N-1} f(x_n[k]).\n",
    "\\end{equation}\n",
    "\n",
    "where $E\\{ \\cdot \\}$ denotes the **expectation operator**, $x_n[k]$ the $n$-th sample function and $f(\\cdot)$ an arbitrary function that acts on $x$. It is evident from the definition that the ensemble average can only be given exactly for random processes where the internal structure (i.e. the mapping function $f$) is known. For practical random processes, like e.g. speech, the ensemble average can only be approximated by a finite but sufficiently large number $N$ of sample functions.\n",
    "\n",
    "On the other hand, if the univariate probability density function (PDF) which characterizes the process is exactly known, then the exact solution can also be given as \n",
    "\n",
    "\\begin{equation}\n",
    "E\\{ f(x[k]) \\} = \\int\\limits_{-\\infty}^{\\infty} f(\\theta) \\, p_x(\\theta, k) \\, \\mathrm{d}\\theta.\n",
    "\\end{equation}"
   ]
  },
  {
   "cell_type": "markdown",
   "metadata": {},
   "source": [
    "#### Properties\n",
    "\n",
    "The following properties can be concluded from the definition of the ensemble average:\n",
    "\n",
    "1. The ensemble averages of two different time-instants $k_1$ and $k_2$ generally differ\n",
    "\n",
    "    \\begin{equation}\n",
    "    E\\{ f(x[k_1]) \\} \\neq E\\{ f(x[k_2]) \\}\n",
    "    \\end{equation}\n",
    "    \n",
    "2. For a linear mapping $f(x[k]) = C \\cdot x[k]$ with $C \\in \\mathbb{R} \\setminus \\{0\\}$, the ensemble average is a linear operation\n",
    "    \n",
    "    \\begin{equation}\n",
    "    E\\{ A \\cdot x[k] + B \\cdot y[k] \\} = A \\cdot E\\{ x[k] \\} + B \\cdot E\\{ y[k] \\}\n",
    "    \\end{equation}\n",
    "\n",
    "3. For a deterministic signal $x_n[k] = s[k]$ $\\forall n$ the ensemble average is \n",
    "\n",
    "    \\begin{equation}\n",
    "    E\\{ f(s[k]) \\} = f(s[k])\n",
    "    \\end{equation}\n",
    "\n",
    "The choice of the mapping function $f(\\cdot)$ determines the particular property of the random process which is characterized by the ensemble average. Common and in practice most important choices are discussed in the following."
   ]
  },
  {
   "cell_type": "markdown",
   "metadata": {},
   "source": [
    "#### Linear mean / 1st raw moment\n",
    "\n",
    "The linear [mean](https://en.wikipedia.org/wiki/Mean), which is given for the linear mapping $f(x[k]) = x[k]$ is the arithmetic mean value across all sample functions $x_n[k]$ for a given time instant $k$. It is also known as the first raw [moment](https://en.wikipedia.org/wiki/Moment_%28mathematics%29).\n",
    "\n",
    "Introducing $f(x[k]) = x[k]$ into the definition of the ensemble average yields\n",
    "\n",
    "\\begin{equation}\n",
    "\\mu_x[k] = E\\{ x[k] \\} = \\lim_{N \\to \\infty} \\frac{1}{N} \\sum_{n=0}^{N-1} x_n[k].\n",
    "\\end{equation}\n",
    "\n",
    "If the PDF of the process is known, then the linear mapping $f(\\theta)=\\theta$ yields \n",
    "\n",
    "\\begin{equation}\n",
    "\\mu_x[k] = E\\{ x[k] \\} = \\int\\limits_{-\\infty}^{\\infty} \\theta \\, p_x(\\theta, k) \\, \\mathrm{d}\\theta.\n",
    "\\end{equation}\n",
    "\n",
    "$\\mu_x[k]$ is a widely accepted standard notation for the linear mean. A process with $\\mu_x[k] = 0$ is termed as *zero-mean* or *mean-free*. Note that $\\mu_x$ should not be confused with the discrete frequency index of the DFT."
   ]
  },
  {
   "cell_type": "markdown",
   "metadata": {},
   "source": [
    "#### Quadratic mean / 2nd raw moment\n",
    "\n",
    "The quadratic mean is given by the mappings $f(x[k]) = x^2[k]$ and $f(\\theta)=\\theta^2$. The expectation becomes\n",
    "\n",
    "\\begin{equation}\n",
    "\\begin{split}\n",
    "E\\{ x^2[k] \\} =& \\lim_{N \\to \\infty} \\frac{1}{N} \\sum_{n=0}^{N-1} x_n^2[k]\\\\\n",
    "E\\{ x^2[k] \\} =& \\int\\limits_{-\\infty}^{\\infty} \\theta^2 \\, p_x(\\theta, k) \\, \\mathrm{d}\\theta.\n",
    "\\end{split}\n",
    "\\end{equation}\n",
    "\n",
    "It quantifies the average instantaneous power of a sample function for a given time index $k$. It is also known as second raw moment."
   ]
  },
  {
   "cell_type": "markdown",
   "metadata": {},
   "source": [
    "#### Variance / 2nd central moment\n",
    "\n",
    "The [variance](https://en.wikipedia.org/wiki/Variance) is defined as the quadratic mean of a zero-mean random process. Note that the subtraction of the linear mean $\\mu_x$ from the samples $x_n[k]$ makes a random signal mean-free. We are free to do this prior to calculation of the expectation. Then, for a general random process with linear mean $\\mu_x$ this is given as\n",
    "\n",
    "\\begin{equation}\n",
    "\\sigma_x^2[k] = E\\{ (x[k] - \\mu_x[k])^2 \\} = E\\{ \\left(x[k] - E\\{ x[k] \\}\\right)^2 \\},\n",
    "\\end{equation}\n",
    "\n",
    "where $\\sigma_x^2[k]$ commonly denotes the variance, $\\sigma_x[k]$ is known as the [standard deviation](https://en.wikipedia.org/wiki/Standard_deviation). The variance characterizes how far the amplitude values of a random signal are spread out from its mean value. It is also known as second central moment.\n",
    "\n",
    "The variance can be given in terms of the quadratic mean and the squared linear mean\n",
    "\n",
    "\\begin{equation}\n",
    "\\sigma_x^2[k] = E\\{ x^2[k] \\} - \\mu_x^2[k]\n",
    "\\end{equation}\n",
    "\n",
    "or vice versa:\n",
    "The quadratic mean is the sum of the squared linear mean and the variance \n",
    "\n",
    "\\begin{equation}\n",
    "E\\{ x^2[k] \\} = \\mu_x^2[k] + \\sigma_x^2[k].\n",
    "\\end{equation}\n",
    "\n",
    "This dependence has a strong link to power calculation of pure resistor circuits in electrical engineering: The complete signal power is the sum of the powers of the direct component (DC) and the alternating component (AC).\n"
   ]
  },
  {
   "cell_type": "markdown",
   "metadata": {},
   "source": [
    "**Excercise**\n",
    "\n",
    "* Derive above relation from the definitions and properties of the first order ensemble average.\n",
    "\n",
    "Solution: Taking the linearity of the expectation operator and the fact that the linear mean is a deterministic value into account yields\n",
    "\n",
    "\\begin{equation}\n",
    "\\begin{split}\n",
    "\\sigma_x^2[k] &= E\\{ (x[k] - \\mu_x[k])^2 \\} \\\\\n",
    "&= E\\{ x^2[k] - 2 \\mu_x[k] x[k] + \\mu_x^2[k]  \\} \\\\\n",
    "&= E\\{ x^2[k] \\} - 2 \\mu_x[k] E\\{ x[k] \\} + \\mu_x^2[k] \\\\\n",
    "&= E\\{ x^2[k] \\} - 2 \\mu_x[k] \\mu_x[k] + \\mu_x^2[k] \\\\\n",
    "& = E\\{ x^2[k] \\} - \\mu_x^2[k]\n",
    "\\end{split}\n",
    "\\end{equation}"
   ]
  },
  {
   "cell_type": "markdown",
   "metadata": {},
   "source": [
    "#### Example - Linear and quadratic mean, and variance of a random process\n",
    "\n",
    "The following example computes and plots the linear mean $\\mu_x$ and quadratic mean, and variance $\\sigma_x^2$ of a random process. Since in practice only a limited number $N$ of sample functions can be evaluated numerically the true values of these quantities are only approximated/estimated. Estimated quantities are denoted by a 'hat' over the respective quantity, e.g. $\\hat{\\mu}_x[k]$."
   ]
  },
  {
   "cell_type": "code",
   "execution_count": null,
   "metadata": {},
   "outputs": [],
   "source": [
    "%matplotlib inline\n",
    "import numpy as np\n",
    "import matplotlib.pyplot as plt\n",
    "\n",
    "K = 64  # number of random samples\n",
    "N = 1000  # number of sample functions\n",
    "\n",
    "\n",
    "# generate the sample functions\n",
    "np.random.seed(3)\n",
    "x = np.random.normal(size=(N, K))\n",
    "x += np.tile(np.cos(2*np.pi/K*np.arange(K)), [N, 1])\n",
    "\n",
    "# estimate the linear mean as ensemble average\n",
    "mu = 1/N * np.sum(x, 0)\n",
    "# estimate the quadratic mean\n",
    "qu = 1/N * np.sum(x**2, 0)\n",
    "# estimate the variance\n",
    "sigma = 1/N * np.sum((x-mu)**2, 0)\n",
    "\n",
    "\n",
    "# plot results\n",
    "plt.rc('figure', figsize=(10, 3))\n",
    "\n",
    "plt.figure()\n",
    "plt.stem(x[0, :],basefmt='C0:', linefmt='C0-', markerfmt='C0o',label=r'$x_0$')\n",
    "plt.stem(x[1, :],basefmt='C1:', linefmt='C1--', markerfmt='C1o',label=r'$x_1$')\n",
    "plt.stem(x[2, :],basefmt='C2:', linefmt='C2-.', markerfmt='C2o',label=r'$x_2$')\n",
    "plt.title(r'Sample functions $x_0[k]$, $x_1[k]$, $x_2[k]$')\n",
    "plt.xlabel(r'$k$')\n",
    "plt.ylabel(r'$x[k]$')\n",
    "plt.axis([0, K, -4, 4])\n",
    "plt.legend()\n",
    "plt.grid(True)\n",
    "\n",
    "plt.figure()\n",
    "plt.stem(mu,basefmt='C0:', linefmt='C0-', markerfmt='C0o',label=r'$\\hat{\\mu}_x[k]$')\n",
    "plt.stem(mu**2,basefmt='C1:', linefmt='C1--', markerfmt='C1o',label=r'$\\hat{\\mu}^2_x[k]$')\n",
    "plt.title(r'Estimate of linear mean and squared linear mean')\n",
    "plt.xlabel(r'$k$')\n",
    "plt.ylabel(r'$\\hat{\\mu}_x[k]$, $\\hat{\\mu}^2_x[k]$')\n",
    "plt.axis([0, K, -1.5, 1.5])\n",
    "plt.legend()\n",
    "\n",
    "plt.figure()\n",
    "plt.stem(qu, basefmt='C0:')\n",
    "plt.title(r'Estimate of quadratic mean')\n",
    "plt.xlabel(r'$k$')\n",
    "plt.ylabel(r'$\\hat{E}\\{x^2[k]\\}$')\n",
    "plt.axis([0, K, 0, 2.5])\n",
    "\n",
    "plt.figure()\n",
    "plt.stem(sigma, basefmt='C0:')\n",
    "plt.title(r'Estimate of variance')\n",
    "plt.xlabel(r'$k$')\n",
    "plt.ylabel(r'$\\hat{\\sigma}^2_x[k]$')\n",
    "plt.axis([0, K, 0, 1.5]);"
   ]
  },
  {
   "cell_type": "markdown",
   "metadata": {},
   "source": [
    "**Exercise**\n",
    "\n",
    "* What does the linear and quadratic mean, and the variance tell you about the average behavior of the sample functions?\n",
    "* Change the number `N` of sample functions and rerun the example. What influence has a decrease/increase of the sample functions on the estimated ensemble averages?\n",
    "\n",
    "Inspection of the estimated linear mean reveals that in average the sample functions follow a cosine function with respect to the sample index $k$. The variance shows that the amount of which the samples of the sample functions for one particular time-instant $k$ are spread around the linear mean is constant. The estimate of the quadratic mean is given as $\\hat{E}\\{ x^2[k] \\} = \\hat{\\mu}_x^2[k] + \\hat{\\sigma}_x^2[k]$. The higher the number $N$ of sample functions used for the estimate of the ensemble averages, the lower the uncertainty in comparison to the true values becomes."
   ]
  },
  {
   "cell_type": "markdown",
   "metadata": {},
   "source": [
    "### Second-Order Ensemble Averages"
   ]
  },
  {
   "cell_type": "markdown",
   "metadata": {},
   "source": [
    "#### Definition\n",
    "\n",
    "The second-order ensemble average of two continuous-amplitude, real-valued random signals $x[k]$ and $y[k]$ is defined as\n",
    "\n",
    "\\begin{equation}\n",
    "E\\{ f(x[k_x], y[k_y]) \\} := \\lim_{N \\to \\infty} \\frac{1}{N} \\sum_{n=0}^{N-1} f(x_n[k_x], y_n[k_y]).\n",
    "\\end{equation}\n",
    "\n",
    "It is given in terms of the bivariate PDF as\n",
    "\n",
    "\\begin{equation}\n",
    "E\\{ f(x[k_x], y[k_y]) \\} = \\iint\\limits_{-\\infty}^{\\infty} f(\\theta_x, \\theta_y) \\, p_{xy}(\\theta_x, \\theta_y, k_x, k_y) \\, \\mathrm{d}\\theta_x\\, \\mathrm{d}\\theta_y.\n",
    "\\end{equation}\n",
    "\n",
    "The definition of the second-order ensemble average can be extended straightforward to the case of more than two random variables. The resulting ensemble average is then termed as higher-order ensemble average. \n",
    "\n",
    "By setting $y = x$, the second-order ensemble average can also be used to characterize the average properties of the sample functions between two different time-instants $k_1$ and $k_2$ of one random process\n",
    "\n",
    "\\begin{equation}\n",
    "\\begin{split}\n",
    "E\\{ f(x[k_1], x[k_2]) \\} &= \\lim_{N \\to \\infty} \\frac{1}{N} \\sum_{n=0}^{N-1} f(x_n[k_1], x_n[k_2]) \\\\\n",
    "&= \\iint\\limits_{-\\infty}^{\\infty} f(\\theta_1, \\theta_2) \\, p_{xx}(\\theta_1, \\theta_2, k_1, k_2) \\, \\mathrm{d}\\theta_1\\, \\mathrm{d}\\theta_2.\n",
    "\\end{split}\n",
    "\\end{equation}\n",
    "\n",
    "It is worth to note that for $y = x$ **and** same time-instant $k$, the first-order ensemble average $E\\{ f(x[k]) \\} = \\int\\limits_{-\\infty}^{\\infty} f(\\theta) \\, p_x(\\theta, k) \\, \\mathrm{d}\\theta$ is obtained. Thus, the definition of the higher order ensemble average constitutes the general formulation of the expectation $E\\{\\cdot\\}$.\n",
    "\n",
    "The choice of the mapping function $f(\\cdot)$ determines the particular property of the random process which is characterized by the ensemble average. The important case of a linear mapping is discussed in the following."
   ]
  },
  {
   "cell_type": "markdown",
   "metadata": {},
   "source": [
    "#### Cross-correlation function\n",
    "\n",
    "The [cross-correlation function](https://en.wikipedia.org/wiki/Cross-correlation) (CCF) of two random signals $x[k]$ and $y[k]$ is defined as the second-order ensemble average for a linear mapping $f(x[k_x], y[k_y]) = x[k_x] \\cdot y[k_y]$\n",
    "\n",
    "\\begin{equation}\n",
    "\\varphi_{xy}[k_x, k_y] = E\\{ x[k_x] \\cdot y[k_y] \\}.\n",
    "\\end{equation}\n",
    "\n",
    "It characterizes the statistical dependencies of two random signals $x[k]$ and $y[k]$ at two different time instants $k_x$ and $k_y$."
   ]
  },
  {
   "cell_type": "markdown",
   "metadata": {},
   "source": [
    "#### Auto-correlation function\n",
    "\n",
    "The [auto-correlation function](https://en.wikipedia.org/wiki/Autocorrelation) (ACF) of a random signal $x[k]$ is defined as the second-order ensemble average for a linear mapping $f(x[k_1], y[k_2]) = x[k_1] \\cdot x[k_2]$\n",
    "\n",
    "\\begin{equation}\n",
    "\\varphi_{xx}[k_1, k_2] = E\\{ x[k_1] \\cdot x[k_2] \\}.\n",
    "\\end{equation}\n",
    "\n",
    "It characterizes the average statistical dependencies between the samples of a random signal $x[k]$ at two different time instants $k_1$ and $k_2$."
   ]
  },
  {
   "cell_type": "markdown",
   "metadata": {},
   "source": [
    "#### Example - Auto-correlation function of a random signal\n",
    "\n",
    "The following example estimates the ACF of a random signal $x[k]$ as ensemble average of a finite number $N$ of sample functions. The ACF is plotted as image where the colors denote the level of the ACF $\\varphi_{xx}[k_1, k_2]$ for given time-instants $k_1$ and $k_2$."
   ]
  },
  {
   "cell_type": "code",
   "execution_count": null,
   "metadata": {},
   "outputs": [],
   "source": [
    "L = 64  # number of random samples\n",
    "N = 1000  # number of sample functions\n",
    "\n",
    "# generate sample functions\n",
    "np.random.seed(1)\n",
    "r = np.random.normal(size=(N, L))\n",
    "h = np.random.normal(size=(N, 10))\n",
    "x = np.asarray([np.convolve(r[n,:], h[n,:], mode='same') for n in range(N)]) \\\n",
    "    + np.tile(np.cos(2*np.pi/L*np.arange(L)), [N,1])\n",
    "\n",
    "# estimate the auto-correlation function (ACF)\n",
    "acf = np.zeros((L, L))\n",
    "for n in range(L):\n",
    "    for m in range(L):\n",
    "        acf[n, m] = 1/N * np.sum(x[:, n]*x[:, m], axis=0)\n",
    "\n",
    "# plot ACF\n",
    "plt.figure(figsize = (7, 5))\n",
    "plt.pcolor(np.arange(L), np.arange(L), acf) #, vmin=-2, vmax=2)\n",
    "plt.title(r'Estimate of ACF $\\hat{\\varphi}_{xx}[k_1, k_2]$')\n",
    "plt.xlabel(r'$k_1$')\n",
    "plt.ylabel(r'$k_2$')\n",
    "plt.colorbar()\n",
    "plt.axis('tight');"
   ]
  },
  {
   "cell_type": "markdown",
   "metadata": {},
   "source": [
    "**Exercise**\n",
    "\n",
    "* Can you explain the specific symmetry of the ACF?\n",
    "\n",
    "Solution: Inspection of the definition of the ACF $\\varphi_{xx}[k_1, k_2] = \\lim_{N \\to \\infty} \\frac{1}{N} \\sum_{n=0}^{N-1} x_n[k_1] \\cdot x_n[k_2]$ reveals that the sample indexes $k_1$ and $k_2$ can be interchanged without changing the value of the ACF. Hence, $\\varphi_{xx}[k_1, k_2] = \\varphi_{xx}[k_2, k_1]$. This symmetry can be observed in above example."
   ]
  },
  {
   "cell_type": "markdown",
   "metadata": {
    "nbsphinx": "hidden"
   },
   "source": [
    "**Copyright**\n",
    "\n",
    "This notebook is provided as [Open Educational Resource](https://en.wikipedia.org/wiki/Open_educational_resources). Feel free to use the notebook for your own purposes. The text is licensed under [Creative Commons Attribution 4.0](https://creativecommons.org/licenses/by/4.0/), the code of the IPython examples under the [MIT license](https://opensource.org/licenses/MIT). Please attribute the work as follows: *Sascha Spors, Digital Signal Processing - Lecture notes featuring computational examples, 2016-2018*."
   ]
  }
 ],
 "metadata": {
  "kernelspec": {
   "display_name": "Python 3",
   "language": "python",
   "name": "python3"
  },
  "language_info": {
   "codemirror_mode": {
    "name": "ipython",
    "version": 3
   },
   "file_extension": ".py",
   "mimetype": "text/x-python",
   "name": "python",
   "nbconvert_exporter": "python",
   "pygments_lexer": "ipython3",
   "version": "3.7.2"
  }
 },
 "nbformat": 4,
 "nbformat_minor": 1
}

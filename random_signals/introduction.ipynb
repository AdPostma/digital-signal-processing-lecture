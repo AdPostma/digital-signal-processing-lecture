{
 "cells": [
  {
   "cell_type": "markdown",
   "metadata": {
    "nbsphinx": "hidden"
   },
   "source": [
    "# Random Signals\n",
    "\n",
    "*This jupyter notebook is part of a [collection of notebooks](../index.ipynb) on various topics of Digital Signal Processing. Please direct questions and suggestions to [Sascha.Spors@uni-rostock.de](mailto:Sascha.Spors@uni-rostock.de).*"
   ]
  },
  {
   "cell_type": "markdown",
   "metadata": {},
   "source": [
    "## Introduction\n",
    "\n",
    "Random signals are signals whose values are not (or only to a limited extend) predictable. Frequently used alternative terms are\n",
    "\n",
    "* stochastic signals\n",
    "* non-deterministic signals\n",
    "\n",
    "Random signals play an important role in various fields of signal processing and communications. This is due to the fact that only random signals carry information. A signal which is observed by a receiver has to be unknown to some degree in order to represent novel [information](https://en.wikipedia.org/wiki/Information).\n",
    "\n",
    "Random signals are often classified as useful/desired and disturbing/interfering signals. For instance\n",
    "\n",
    "* useful signals: data, speech, music, images, ...\n",
    "* disturbing signals: thermal noise at a resistor, amplifier noise, quantization noise, cosmic microwave background...\n",
    "\n",
    "Practical signals are frequently modeled as a combination of useful signals and additive noise.\n",
    "\n",
    "As the values of a random signal cannot be foreseen, the properties of random signals are described by the their statistical characteristics. One measure is for instance the average value of a random signal."
   ]
  },
  {
   "cell_type": "markdown",
   "metadata": {},
   "source": [
    "**Example - Random Signals**\n",
    "\n",
    "The following audio examples illustrate the characteristics of some deterministic and random signals. Lower the volume of your headphones or loudspeakers before playing back the examples.\n",
    "\n",
    "1. Cosine signal\n",
    "\n",
    "    <audio src=\"./cosine.wav\" controls>Your browser does not support the audio element.</audio>[./cosine.wav](./cosine.wav)\n",
    "2. Noise\n",
    "\n",
    "    <audio src=\"./noise.wav\" controls>Your browser does not support the audio element.</audio>[./noise.wav](./noise.wav)\n",
    "3. Cosine signal superpositioned by noise\n",
    "\n",
    "    <audio src=\"./cosine_noise.wav\" controls>Your browser does not support the audio element.</audio>[./cosine_noise.wav](./cosine_noise.wav)\n",
    "4. Speech signal\n",
    "\n",
    "    <audio src=\"../data/speech.wav\" controls>Your browser does not support the audio element.</audio>[../data/speech.wav](../data/speech.wav)\n",
    "5. Speech signal superpositioned by noise\n",
    "\n",
    "    <audio src=\"./speech_noise.wav\" controls>Your browser does not support the audio element.</audio>[./speech_noise.wav](./speech_noise.wav)"
   ]
  },
  {
   "cell_type": "markdown",
   "metadata": {},
   "source": [
    "**Excercise**\n",
    "\n",
    "* Which example can be considered as deterministic, random signal or combination of both?\n",
    "\n",
    "Solution: The cosine signal is the only deterministic signal. Noise and speech are random signals, as their samples can not (or only to a limited extend) be predicted from previous samples. The superposition of the cosine and noise signals is a combination of a deterministic and a random signal."
   ]
  },
  {
   "cell_type": "markdown",
   "metadata": {},
   "source": [
    "### Processing of Random Signals\n",
    "\n",
    "In contrary to the assumption of deterministic signals in traditional signal processing, [statistical signal processing](https://en.wikipedia.org/wiki/Statistical_signal_processing) treats signals explicitly as random signals. Two prominent application examples involving random signals are:"
   ]
  },
  {
   "cell_type": "markdown",
   "metadata": {},
   "source": [
    "#### Measurement of physical quantities\n",
    "\n",
    "The measurement of physical quantities is often subject to additive noise and distortions. The additive noise models e.g. the sensor noise. The distortions, by e.g. the transmission properties of an amplifier, may be modeled by a system.\n",
    "\n",
    "![Model for the measurement of physical quantities](measurement_channel.png)\n",
    "\n",
    "$\\mathcal{H}$ denotes an arbitrary (not necessarily LTI) system. The aim of statistical signal processing is to estimate the physical quantity from the observed sensor data, given some knowledge on the disturbing system and the statistical properties of the noise."
   ]
  },
  {
   "cell_type": "markdown",
   "metadata": {},
   "source": [
    "#### Communication channel\n",
    "\n",
    "In communications engineering a message is sent over a channel that distorts the signal by e.g. multipath propagation. Additive noise is present at the receiver due to background and amplifier noise.\n",
    "\n",
    "![Model for the transmission of a message over a communication channel](communication_channel.png)\n",
    "\n",
    "The aim of statistical signal processing is to estimate the sent message from the received message, given some knowledge on the disturbing system and the statistical properties of the noise."
   ]
  },
  {
   "cell_type": "markdown",
   "metadata": {},
   "source": [
    "### Random Processes\n",
    "\n",
    "A random process is a [stochastic process](https://en.wikipedia.org/wiki/Stochastic_process) which generates an ensemble of random signals. A random process\n",
    "\n",
    "* provides a mathematical model for an ensemble of random signals and\n",
    "* generates different sample functions with specific common properties.\n",
    "\n",
    "It is important to differentiate between an\n",
    "\n",
    "* *ensemble*: collection of all possible signals of a random process and an\n",
    "* *sample function*: one specific random signal.\n",
    "\n",
    "An example for a random process is speech produced by humans. Here the ensemble is composed from the speech signals produced by all humans on earth, one particular speech signal produced by one person at a specific time is a sample function."
   ]
  },
  {
   "cell_type": "markdown",
   "metadata": {},
   "source": [
    "**Example - Sample functions of a random process**\n",
    "\n",
    "The following example shows sample functions of a continuous amplitude real-valued random process. All sample functions have the same properties with respect to certain statistical measures."
   ]
  },
  {
   "cell_type": "code",
   "execution_count": null,
   "metadata": {},
   "outputs": [],
   "source": [
    "%matplotlib inline\n",
    "import numpy as np\n",
    "import matplotlib.pyplot as plt\n",
    "\n",
    "N = 5  # number of sample functions\n",
    "\n",
    "# draw N sample functions from a random process\n",
    "np.random.seed(0)\n",
    "x = np.random.normal(size=(N, 32))\n",
    "\n",
    "# plot sample functions\n",
    "fig = plt.figure(figsize=(10, 12))\n",
    "for n in range(N):\n",
    "    plt.subplot(N, 1, n+1)\n",
    "    plt.tight_layout()\n",
    "    plt.stem(x[n,:], basefmt='C0:')\n",
    "    plt.title('Sample Function %d' %n)\n",
    "    plt.xlabel(r'$k$')\n",
    "    plt.ylabel(r'$x_%d[k]$' %n)\n",
    "    plt.axis([-1, 32, -3, 3])\n",
    "    plt.grid()"
   ]
  },
  {
   "cell_type": "markdown",
   "metadata": {},
   "source": [
    "**Exercise**\n",
    "\n",
    "* What is different, what is common between the sample functions?\n",
    "\n",
    "Solution: You may have observed that the amplitude values of the individual sample functions $x_n[k]$ differ for a fixed time instant $k$. However, the sample functions seem to share some common properties. For instance, positive and negative values seem to occur with approximately the same probability. Furthermore, positive and negative values seem to be aligned around zero."
   ]
  },
  {
   "cell_type": "markdown",
   "metadata": {},
   "source": [
    "### Properties of Random Processes and Random Signals\n",
    "\n",
    "It was already argued above, that it is not meaningful to describe a random signal by the amplitude values of a particular sample function. Instead, random signals are characterized by specific statistical measures. In statistical signal processing it is common to use\n",
    "\n",
    "* amplitude distributions and\n",
    "* ensemble averages/moments\n",
    "\n",
    "for this purpose. These measures will be introduced in the following."
   ]
  },
  {
   "cell_type": "markdown",
   "metadata": {
    "nbsphinx": "hidden"
   },
   "source": [
    "**Copyright**\n",
    "\n",
    "This notebook is provided as [Open Educational Resource](https://en.wikipedia.org/wiki/Open_educational_resources). Feel free to use the notebook for your own purposes. The text is licensed under [Creative Commons Attribution 4.0](https://creativecommons.org/licenses/by/4.0/), the code of the IPython examples under the [MIT license](https://opensource.org/licenses/MIT). Please attribute the work as follows: *Sascha Spors, Digital Signal Processing - Lecture notes featuring computational examples, 2016-2018*."
   ]
  }
 ],
 "metadata": {
  "anaconda-cloud": {},
  "kernelspec": {
   "display_name": "Python 3",
   "language": "python",
   "name": "python3"
  },
  "language_info": {
   "codemirror_mode": {
    "name": "ipython",
    "version": 3
   },
   "file_extension": ".py",
   "mimetype": "text/x-python",
   "name": "python",
   "nbconvert_exporter": "python",
   "pygments_lexer": "ipython3",
   "version": "3.7.2"
  }
 },
 "nbformat": 4,
 "nbformat_minor": 1
}

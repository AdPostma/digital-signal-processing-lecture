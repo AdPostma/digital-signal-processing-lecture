{
 "cells": [
  {
   "cell_type": "markdown",
   "metadata": {},
   "source": [
    "# Audio-Filters\n",
    "## Characteristics in Transfer Function and Impulse Response#\n",
    "### Modules"
   ]
  },
  {
   "cell_type": "code",
   "execution_count": null,
   "metadata": {},
   "outputs": [],
   "source": [
    "%load_ext autoreload\n",
    "%autoreload 2\n",
    "\n",
    "import matplotlib\n",
    "import matplotlib.pyplot as plt\n",
    "import numpy as np\n",
    "from scipy import signal\n",
    "import audiofilter\n",
    "%matplotlib inline\n",
    "matplotlib.rcParams['font.size'] = 8\n",
    "fsz = (12, 8)\n",
    "\n",
    "fs = 48000\n",
    "Nt = 2**12\n",
    "\n",
    "def impz(b=1, a=1, Nt=2**12, fs=48000):\n",
    "    t = np.arange(0,Nt) / fs\n",
    "    dirac = np.zeros(Nt)\n",
    "    dirac[0] = 1\n",
    "    return t, signal.lfilter(b,a,dirac)\n",
    "\n",
    "def magnitude_plot(x, y, title, legend):\n",
    "    fig = plt.figure(figsize=fsz)\n",
    "    audiofilter.magnitude_plot_overlay(x, y, title, legend, fig=fig) \n",
    "\n",
    "def plot_system(ttl):\n",
    "    t, h = impz(b, a, Nt, fs)\n",
    "    W, H = signal.freqz(b, a, Nt)\n",
    "    W, gdly = signal.group_delay((b, a), W)\n",
    "\n",
    "    plt.figure(figsize=fsz)\n",
    "    plt.subplot(2,2,1)\n",
    "    plt.semilogx(W/np.pi*fs/2,20*np.log10(np.abs(H)))\n",
    "    plt.xlim(10,20000)\n",
    "    plt.grid()\n",
    "    plt.xlabel(\"f / Hz\")\n",
    "    plt.ylabel(\"A / dB\")\n",
    "    plt.title(\"Magnitude (Level): \"+ ttl)\n",
    "    plt.ylim(-40,10)\n",
    "\n",
    "    plt.subplot(2,2,2)\n",
    "    plt.semilogx(W/np.pi*fs/2,(np.angle(H))*180/np.pi)\n",
    "    #plt.semilogx(W/np.pi*fs/2,np.unwrap(np.angle(H))*180/np.pi)    \n",
    "    #plt.plot(W/np.pi*fs/2,np.unwrap(np.angle(H))*180/np.pi)\n",
    "    plt.xlim(10,20000)\n",
    "    #plt.ylim(-180, 180)\n",
    "    plt.grid()\n",
    "    plt.xlabel(\"f / Hz\")\n",
    "    plt.ylabel(r\"$\\phi$ / deg\")\n",
    "    plt.title(\"Phase\")\n",
    "\n",
    "    plt.subplot(2,2,3)\n",
    "    plt.plot(t*1000,h)\n",
    "    plt.xlim(-1,10)\n",
    "    plt.grid()\n",
    "    plt.xlabel(\"t / ms\")\n",
    "    plt.ylabel(\"h(t)\")\n",
    "    plt.title(\"Impulse Response\")\n",
    "\n",
    "    plt.subplot(2,2,4)\n",
    "    plt.semilogx(W/np.pi*fs/2,gdly/fs*1000)\n",
    "    plt.xlim(10,20000)\n",
    "    plt.ylim(-2, 6)\n",
    "    plt.grid()\n",
    "    plt.xlabel(\"f / Hz\")\n",
    "    plt.ylabel(\"t / ms\")\n",
    "    plt.title(\"Group Delay\")\n"
   ]
  },
  {
   "cell_type": "markdown",
   "metadata": {},
   "source": [
    "### Basics"
   ]
  },
  {
   "cell_type": "code",
   "execution_count": null,
   "metadata": {},
   "outputs": [],
   "source": [
    "b = np.zeros(Nt)\n",
    "b[0] = 10**(-10/20)\n",
    "a = 1\n",
    "plot_system(\"Fader Gain\")\n",
    "print(b[0])"
   ]
  },
  {
   "cell_type": "code",
   "execution_count": null,
   "metadata": {},
   "outputs": [],
   "source": [
    "b = np.zeros(Nt)\n",
    "b[0] = 10**(+3.01/20)\n",
    "a = 1\n",
    "plot_system(\"Fader Gain\")\n",
    "print(b[0])"
   ]
  },
  {
   "cell_type": "code",
   "execution_count": null,
   "metadata": {},
   "outputs": [],
   "source": [
    "b = np.zeros(Nt)\n",
    "b[0] = 0\n",
    "b[int(np.ceil(1/1000*fs))] = 1\n",
    "a = 1\n",
    "plot_system(\"Delay\")"
   ]
  },
  {
   "cell_type": "markdown",
   "metadata": {},
   "source": [
    "### Combfilter"
   ]
  },
  {
   "cell_type": "code",
   "execution_count": null,
   "metadata": {},
   "outputs": [],
   "source": [
    "# combfilter FIR, 1.5ms delay, -16dB ->\n",
    "# max stereo cues for delay and magnitude difference between left / right\n",
    "b = np.zeros(200)\n",
    "b[0] = 1\n",
    "b[int(np.ceil(1.5/1000*fs))] = 10**(-16/20)\n",
    "a = 1\n",
    "plot_system(\"Combfilter\")"
   ]
  },
  {
   "cell_type": "markdown",
   "metadata": {},
   "source": [
    "### Infinite Impulse Response (IIR) Filters"
   ]
  },
  {
   "cell_type": "code",
   "execution_count": null,
   "metadata": {},
   "outputs": [],
   "source": [
    "fc = 100  # Hz\n",
    "B, A, b, a = audiofilter.biquad_lp2nd(fc, fs)\n",
    "plot_system(\"Butterworth Lowpass Filter 2nd order\")"
   ]
  },
  {
   "cell_type": "code",
   "execution_count": null,
   "metadata": {},
   "outputs": [],
   "source": [
    "BW = 2  # bandwidth in octaves\n",
    "fm = 2000  # mid frequency in Hz; using fm=1000 and BW=2, then fc is at 1 kHz\n",
    "G = -18  # dB\n",
    "QBP = audiofilter.q_from_bw(BW)\n",
    "B1, A1, b, a = audiofilter.biquad_peq2nd(fm, G, QBP, fs, \"I\")  # fc at -3dB\n",
    "B2, A2, b, a = audiofilter.biquad_peq2nd(fm, G, QBP, fs, \"II\")  # fc at -15dB\n",
    "B3, A3, b, a = audiofilter.biquad_peq2nd(fm, G, QBP, fs, \"III\")  # fc at -9dB\n",
    "f = np.arange(1,fs/2,1)\n",
    "s = 2*np.pi*f\n",
    "s, H1 = signal.freqs(B1, A1, s)\n",
    "s, H2 = signal.freqs(B2, A2, s)\n",
    "s, H3 = signal.freqs(B3, A3, s)\n",
    "\n",
    "x = np.column_stack((f, f, f))\n",
    "y = np.column_stack((H1, H2, H3))\n",
    "title = 'PEQ 2nd order for cutting'\n",
    "legend = [\"type I\", \"type II\", \"type III\"]\n",
    "magnitude_plot(x, y, title, legend)"
   ]
  },
  {
   "cell_type": "code",
   "execution_count": null,
   "metadata": {},
   "outputs": [],
   "source": [
    "fc = 1000  # Hz\n",
    "G = 18  # dB\n",
    "B1, A1, b, a = audiofilter.biquad_hshv2nd(fc, G, fs, \"I\")  # fc at 15 dB\n",
    "B2, A2, b, a = audiofilter.biquad_hshv2nd(fc, G, fs, \"II\")  # fc at 3 dB\n",
    "B3, A3, b, a = audiofilter.biquad_hshv2nd(fc, G, fs, \"III\")  # fc at 9 dB\n",
    "f = np.arange(1,fs/2,1)\n",
    "s = 2*np.pi*f\n",
    "s, H1 = signal.freqs(B1, A1, s)\n",
    "s, H2 = signal.freqs(B2, A2, s)\n",
    "s, H3 = signal.freqs(B3, A3, s)\n",
    "\n",
    "x = np.column_stack((f, f, f))\n",
    "y = np.column_stack((H1, H2, H3))\n",
    "title = 'High-Shelve 2nd order'\n",
    "legend = [\"type I\", \"type II\", \"type III\"]\n",
    "magnitude_plot(x, y, title, legend)"
   ]
  },
  {
   "cell_type": "markdown",
   "metadata": {},
   "source": [
    "### Linear Phase Finite Impulse Response (FIR) Filters"
   ]
  },
  {
   "cell_type": "code",
   "execution_count": null,
   "metadata": {},
   "outputs": [],
   "source": [
    "NFIR = 481  #0.5 ms group delay at fs=48 kHz\n",
    "b = np.random.randn(NFIR) / 40\n",
    "tmp = b[0:int((NFIR-1)/2)]\n",
    "b = np.concatenate((tmp[::], b[int((NFIR-1)/2)], +tmp[::-1]), axis=None)\n",
    "a = 1\n",
    "plot_system(\"Linear Phase FIR Type I, axial-symm, odd coeff\")"
   ]
  },
  {
   "cell_type": "code",
   "execution_count": null,
   "metadata": {},
   "outputs": [],
   "source": [
    "NFIR = 481  #0.5 ms group delay at fs=48 kHz\n",
    "b = np.random.randn(NFIR) / 40\n",
    "b = np.concatenate((tmp[::], 0, -tmp[::-1]), axis=None)\n",
    "a = 1\n",
    "plot_system(\"Linear Phase FIR Type III, point-symm, odd coeff\")"
   ]
  },
  {
   "cell_type": "code",
   "execution_count": null,
   "metadata": {},
   "outputs": [],
   "source": [
    "NFIR = 480  #0.5 ms group delay at fs=48 kHz\n",
    "b = np.random.randn(NFIR) / 40\n",
    "tmp = b[0:int(NFIR/2)]\n",
    "b = np.concatenate((tmp[::], +tmp[::-1]), axis=None)\n",
    "a = 1\n",
    "plot_system(\"Linear Phase FIR Type II, axial-symm, even coeff\")"
   ]
  },
  {
   "cell_type": "code",
   "execution_count": null,
   "metadata": {},
   "outputs": [],
   "source": [
    "NFIR = 480  #0.5 ms group delay at fs=48 kHz\n",
    "b = np.random.randn(NFIR) / 40\n",
    "tmp = b[0:int(NFIR/2)]\n",
    "b = np.concatenate((tmp[::], -tmp[::-1]), axis=None)\n",
    "a = 1\n",
    "plot_system(\"Linear Phase FIR Type IV, point-symm, even coeff\")"
   ]
  },
  {
   "cell_type": "code",
   "execution_count": null,
   "metadata": {},
   "outputs": [],
   "source": [
    "NFIR = 481  #0.5 ms group delay at fs=48 kHz\n",
    "n = np.arange(0,NFIR) \n",
    "b = np.sin(np.pi/4*n) / (np.pi*n)  # fcut = 6 kHz at fs=48 kHz\n",
    "b[0] = 1/4  # L'Hospital rule\n",
    "tmp = b[1:int((NFIR-1)/2)+1]\n",
    "b = np.concatenate((tmp[::-1], b[0], +tmp[::]), axis=None)\n",
    "a = 1\n",
    "plot_system(\"rect win lowpass , Linear Phase FIR Type I, axial-symm, odd coeff\")\n"
   ]
  },
  {
   "cell_type": "markdown",
   "metadata": {},
   "source": [
    "### Acoustic Impulse Responses of a Line Array at Different Listening Positions\n",
    "![Acoustic Impulse Responses of a Line Source Array](SingleIRs.jpg)"
   ]
  },
  {
   "cell_type": "markdown",
   "metadata": {},
   "source": [
    "### Room Impulse Response (RIR)\n",
    "![a](https://upload.wikimedia.org/wikipedia/commons/1/19/Acoustic_room_impulse_response.jpeg)"
   ]
  },
  {
   "cell_type": "code",
   "execution_count": null,
   "metadata": {},
   "outputs": [],
   "source": []
  }
 ],
 "metadata": {
  "kernelspec": {
   "display_name": "Python 3",
   "language": "python",
   "name": "python3"
  },
  "language_info": {
   "codemirror_mode": {
    "name": "ipython",
    "version": 3
   },
   "file_extension": ".py",
   "mimetype": "text/x-python",
   "name": "python",
   "nbconvert_exporter": "python",
   "pygments_lexer": "ipython3",
   "version": "3.7.2"
  }
 },
 "nbformat": 4,
 "nbformat_minor": 2
}

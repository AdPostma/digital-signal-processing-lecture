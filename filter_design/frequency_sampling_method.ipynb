{
 "cells": [
  {
   "cell_type": "markdown",
   "metadata": {
    "nbsphinx": "hidden"
   },
   "source": [
    "# Design of Digital Filters\n",
    "\n",
    "*This jupyter notebook is part of a [collection of notebooks](../index.ipynb) on various topics of Digital Signal Processing. Please direct questions and suggestions to [Sascha.Spors@uni-rostock.de](mailto:Sascha.Spors@uni-rostock.de).*"
   ]
  },
  {
   "cell_type": "markdown",
   "metadata": {},
   "source": [
    "## Design of Non-Recursive Filters using the Frequency Sampling Method\n",
    "\n",
    "For some applications, the desired frequency response is not given for all frequencies (i.e. the DTFT is known) but rather at a number of discrete frequencies (i.e. the DFT is known). For instance when the transfer function has been actually measured and stored on a computer (finite length spectrum). In this case, the [window method](./window_method.ipynb) cannot be applied since the desired transfer function is not given analytically. The frequency sampling method provides a solution for the design of non-recursive filters."
   ]
  },
  {
   "cell_type": "markdown",
   "metadata": {},
   "source": [
    "### The Frequency Sampling Method\n",
    "\n",
    "Let's assume that the desired transfer function $H_\\text{d}(\\mathrm{e}^{\\,\\mathrm{j}\\,\\Omega})$ is specified at a set of $N$ equally spaced frequencies $\\Omega_\\mu = \\frac{2 \\pi}{N} \\mu$\n",
    "\n",
    "\\begin{equation}\n",
    "H_\\text{d}[\\mu] = H_\\text{d}(\\mathrm{e}^{\\,\\mathrm{j}\\,\\frac{2 \\pi}{N} \\mu})\n",
    "\\end{equation}\n",
    "\n",
    "for $\\mu = 0, 1, \\dots, N-1$. The coefficients of a non-recursive filter with finite-length impulse response (FIR) can then be computed by inverse discrete Fourier transformation (IDFT) of $H_\\text{d}[\\mu]$\n",
    "\n",
    "\\begin{equation}\n",
    "h[k] = \\text{DFT}_N^{-1} \\{ H_\\text{d}[\\mu] \\} = \\frac{1}{N} \\sum_{\\mu = 0}^{N-1} H_\\text{d}[\\mu] \\; \\mathrm{e}^{\\,\\mathrm{j}\\,\\frac{2 \\pi}{N} \\mu\\,k}\n",
    "\\end{equation}\n",
    "\n",
    "for $k = 0,1, \\dots, N-1$. "
   ]
  },
  {
   "cell_type": "markdown",
   "metadata": {},
   "source": [
    "In order to investigate the properties of the designed filter, its transfer function $H(\\mathrm{e}^{\\,\\mathrm{j}\\,\\Omega})$ is computed. It is given by discrete-time Fourier transformation (DTFT) of its impulse response $h[k]$\n",
    "\n",
    "\\begin{equation}\n",
    "H(\\mathrm{e}^{\\,\\mathrm{j}\\,\\Omega}) = \\sum_{k = 0}^{N-1} h[k] \\; \\mathrm{e}^{\\,-\\mathrm{j}\\,\\Omega\\,k} = \n",
    "\\sum_{\\mu = 0}^{N-1} H_\\text{d}[\\mu] \\cdot \\frac{1}{N} \\sum_{k = 0}^{N-1} \\mathrm{e}^{\\,-\\mathrm{j}\\,k\\,(\\Omega - \\frac{2 \\pi}{N}\\,\\mu)}.\n",
    "\\end{equation}\n",
    "\n",
    "When comparing this result with the [interpolation of a DFT](../spectral_analysis_deterministic_signals/zero_padding.ipynb#Interpolation-of-the-Discrete-Fourier-Transformation), it can be concluded that $H(\\mathrm{e}^{\\,\\mathrm{j}\\,\\Omega})$ is yielded by interpolation of the desired transfer function $H_\\text{d}[\\mu]$\n",
    "\n",
    "\\begin{equation}\n",
    "H(\\mathrm{e}^{\\,\\mathrm{j}\\,\\Omega}) = \\sum_{\\mu=0}^{N-1} H_\\text{d}[\\mu] \\cdot \\mathrm{e}^{-\\,\\mathrm{j}\\, \\frac{( \\Omega - \\frac{2 \\pi}{N} \\mu ) (N-1)}{2}} \\cdot \\text{psinc}_N ( \\Omega - \\frac{2 \\pi}{N} \\mu),\n",
    "\\end{equation}\n",
    "\n",
    "where $\\text{psinc}_N(\\cdot)$ denotes the $N$-th order periodic sinc function.\n",
    "\n",
    "Both, the transfer function of the filter $H(\\mathrm{e}^{\\,\\mathrm{j}\\,\\Omega})$ and the desired transfer function $H_\\text{d}[\\mu]$ are precisely equal at the specified frequencies $\\Omega_\\mu = \\frac{2 \\pi}{N} \\mu$. Values in between adjacent $\\Omega_\\mu$ are interpolated by the periodic sinc function. This is illustrated in the following example."
   ]
  },
  {
   "cell_type": "markdown",
   "metadata": {},
   "source": [
    "#### Example: Approximation of an ideal low-pass\n",
    "\n",
    "The design of an ideal low-pass filter using the frequency sampling method is considered. For $|\\Omega| < \\pi$ the transfer function of the ideal low-pass is given as\n",
    "\n",
    "\\begin{equation}\n",
    "H_\\text{d}(\\mathrm{e}^{\\,\\mathrm{j}\\,\\Omega}) = \\begin{cases}\n",
    "1 & \\text{for } |\\Omega| \\leq \\Omega_\\text{c} \\\\\n",
    "0 & \\text{otherwise}\n",
    "\\end{cases},\n",
    "\\end{equation}\n",
    "\n",
    "where $\\Omega_\\text{c}$ denotes its corner frequency. The desired transfer function $H_\\text{d}[\\mu]$ for the frequency sampling method is derived by sampling $H_\\text{d}(\\mathrm{e}^{\\,\\mathrm{j}\\,\\Omega})$. Note that for sampling on the unit circle with $0 \\leq \\Omega < 2 \\pi$, the periodicity $H_\\text{d}(\\mathrm{e}^{\\,\\mathrm{j}\\,\\Omega}) = H_\\text{d}(\\mathrm{e}^{\\,\\mathrm{j}(\\Omega + n 2 \\pi)})$ with $n \\in \\mathbb{Z}$ has to be considered."
   ]
  },
  {
   "cell_type": "code",
   "execution_count": null,
   "metadata": {},
   "outputs": [],
   "source": [
    "import numpy as np\n",
    "import matplotlib.pyplot as plt\n",
    "import scipy.signal as sig\n",
    "%matplotlib inline\n",
    "\n",
    "N = 2**5+1  # length of filter\n",
    "Omc = 2*np.pi/33*5.5  # corner frequency of low-pass\n",
    "\n",
    "# specify desired frequency response\n",
    "Ommu = 2*np.pi/N*np.arange(N)\n",
    "Hd = np.zeros(N)\n",
    "Hd[Ommu <= Omc] = 1\n",
    "Hd[Ommu >= (2*np.pi-Omc)] = 1\n",
    "\n",
    "# compute impulse response of filter\n",
    "h = np.fft.ifft(Hd)\n",
    "h = np.real(h)  # due to round-off errors\n",
    "# compute frequency response of filter\n",
    "Om, H = sig.freqz(h, worN=8192)\n",
    "\n",
    "# plot impulse response\n",
    "plt.figure(figsize=(10, 3))\n",
    "plt.stem(h, use_line_collection=True, basefmt='C0:')\n",
    "plt.title('Impulse response')\n",
    "plt.xlabel(r'$k$')\n",
    "plt.ylabel(r'$h[k]$')\n",
    "plt.grid(True)\n",
    "# plot transfer functions\n",
    "plt.figure(figsize=(10, 3))\n",
    "plt.plot([0, Omc, Omc], [1, 1, 0], 'C3--')\n",
    "plt.stem(Ommu, np.abs(Hd), 'C1', label=r'desired $|H_d[\\mu]|$',\n",
    "         use_line_collection=True, basefmt='C1:', linefmt='C1:', markerfmt='C1o')\n",
    "plt.plot(Om, np.abs(H), 'C0', label=r'designed $|H(e^{j \\Omega})|$')\n",
    "plt.title('Magnitude response of desired and designed filter')\n",
    "plt.xlabel(r'$\\Omega$ in rad')\n",
    "plt.ylabel(r'$|H(\\Omega)|$')\n",
    "plt.legend()\n",
    "plt.axis([0, np.pi, -0.05, 1.5])\n",
    "plt.grid(True)\n",
    "# plot phase\n",
    "plt.figure(figsize=(10, 3))\n",
    "plt.plot(Om, np.unwrap(np.angle(H)))\n",
    "plt.title('Phase of designed filter')\n",
    "plt.xlabel(r'$\\Omega$ in rad')\n",
    "plt.ylabel(r'$\\varphi(\\Omega)$ in rad')\n",
    "plt.grid(True)"
   ]
  },
  {
   "cell_type": "markdown",
   "metadata": {},
   "source": [
    "**Exercises**\n",
    "\n",
    "* Does the resulting filter approximate the desired magnitude and phase response well?\n",
    "* Increase the length `N` of the filter. Does the attenuation in the stop-band improve?\n",
    "\n",
    "Solution: The desired magnitude and phase response is an ideal low-pass with zero-phase. The magnitude response of the designed filter approximates this only very coarsely and shows major ringing artifacts. The phase of the designed filter is also not zero for all frequencies. Increasing the length `N` of the filter does not improve the attenuation in the stop-band, it only changes the frequencies of the local minima of the ripples. The reason for the poor performance of the designed filter is the zero-phase of the desired transfer function which cannot be realized by a causal non-recursive system. This was [already discussed for the window method](../filter_design/window_method.ipynb#Zero-Phase-Filters). The frequency sampling method suffers additionally from time-domain aliasing due to the periodicity of the DFT."
   ]
  },
  {
   "cell_type": "markdown",
   "metadata": {},
   "source": [
    "### Time-Domain Aliasing\n",
    "\n",
    "The impulse response $h_\\text{d}[k]$ of the desired filter is given by inverse DTFT of its transfer function\n",
    "\n",
    "\\begin{equation}\n",
    "h_\\text{d}[k] = \\mathcal{F}_*^{-1} \\{ H_\\text{d}(\\mathrm{e}^{\\,\\mathrm{j}\\,\\Omega}) \\} = \n",
    "\\frac{1}{2 \\pi} \\int_{-\\pi}^{\\pi} H_\\text{d}(\\mathrm{e}^{\\,\\mathrm{j}\\,\\Omega}) \\, \\mathrm{e}^{\\,\\mathrm{j}\\,\\Omega} d\\Omega.\n",
    "\\end{equation}\n",
    "\n",
    "The link between the impulse response $h_\\text{d}[k]$ of the desired and the impulse response $h[k]$ of the designed filter is derived in the following by explicitly taking the sampling of the desired transfer function into account. The sampled transfer function $H_\\text{d,S}(\\mathrm{e}^{\\,\\mathrm{j}\\,\\Omega})$ follows from ideal sampling by multiplication with a series of Dirac impulses\n",
    "\n",
    "\\begin{equation}\n",
    "H_\\text{d,S}(\\mathrm{e}^{\\,\\mathrm{j}\\,\\Omega}) = H_\\text{d}(\\mathrm{e}^{\\,\\mathrm{j}\\,\\Omega}) \\cdot \n",
    "\\sum_{\\mu = -\\infty}^{\\infty} \\delta \\left(\\Omega - \\frac{2 \\pi}{N} \\mu \\right).\n",
    "\\end{equation}\n",
    "\n",
    "Introducing the sampled transfer function into the inverse DTFT yields its inverse DFT. As above equation states essentially a convolution of two spectra, the convolution theorem of the DTFT applies. This yields\n",
    "\n",
    "\\begin{equation}\n",
    "\\begin{split}\n",
    "h[k] &= h_\\text{d}[k] * \\mathcal{F}_*^{-1} \\left\\{ \\sum_{\\mu = -\\infty}^{\\infty} \\delta \\left(\\Omega - \\frac{2 \\pi}{N} \\mu \\right) \\right\\} \\\\\n",
    "&= h_\\text{d}[k] * \\sum_{l = -\\infty}^{\\infty} \\delta[k - l \\cdot N] \\\\\n",
    "&= \\sum_{l = -\\infty}^{\\infty} h_\\text{d}[k - l \\cdot N].\n",
    "\\end{split}\n",
    "\\end{equation}\n",
    "\n",
    "This result states that the impulse response $h[k]$ of the designed filter is given by periodic summation of the impulse response $h_\\text{d}[k]$ of the desired filter. If the impulse response of the desired filter is longer than $N$ samples, its shifted impulse responses will overlap. These overlaps are known as *time-domain aliasing*. \n",
    "\n",
    "The ideal low-pass constitutes a bandlimited system. Such systems have impulse responses of infinite length. In above example, the resulting time-domain aliasing is clearly visible at the end of the impulse response of the designed filter. Shifting the peak of the impulse response of the desired filter to the center of the block with length $N$ limits the impact of time-domain aliasing. This holds also for a general zero-phase desired filter due to [symmetry of its impulse response](./window_method.ipynb#Zero-Phase-Filters). Hence, again a linear-phase design is beneficial in such situations."
   ]
  },
  {
   "cell_type": "markdown",
   "metadata": {},
   "source": [
    "### Design of Linear-Phase Filters\n",
    "\n",
    "As for the [window method](../filter_design/window_method.ipynb), the design of a digital filter with a generalized linear phase is considered in the following. For $|\\Omega| < \\pi$ its transfer function is given as\n",
    "\n",
    "\\begin{equation}\n",
    "H_\\text{d}(\\mathrm{e}^{\\,\\mathrm{j}\\,\\Omega}) = A(\\mathrm{e}^{\\,\\mathrm{j}\\,\\Omega}) \\cdot \\mathrm{e}^{\\,-\\mathrm{j} \\alpha \\Omega + \\mathrm{j} \\beta},\n",
    "\\end{equation}\n",
    "\n",
    "where $A(\\mathrm{e}^{\\,\\mathrm{j}\\,\\Omega}) \\in \\mathbb{R}$ denotes the amplitude of the filter, $-\\alpha\\,\\Omega$ its linear phase and $\\beta$ a constant phase offset ($\\alpha,\\beta\\in\\mathbb{R^+}$). The impulse response $h[k]$ of a linear-phase filter shows specific symmetries which have already been discussed for the [design of linear-phase filters using the window method](../filter_design/window_method.ipynb#Causal-Linear-Phase-Filters). For the resulting four types of linear-phase FIR filters, the properties of $A(\\mathrm{e}^{\\,\\mathrm{j}\\,\\Omega})$ and the values of $\\alpha$ and $\\beta$ have to be chosen accordingly for the formulation of $H_\\text{d}(\\mathrm{e}^{\\,\\mathrm{j}\\,\\Omega})$ and $H_d[\\mu]$, respectively. This is illustrated in the following for the design of a low-pass filter."
   ]
  },
  {
   "cell_type": "markdown",
   "metadata": {},
   "source": [
    "#### Example: Linear-phase approximation of an ideal low-pass\n",
    "\n",
    "We aim at the approximation of an ideal low-pass as a linear-phase, non-recursive FIR filter. For the sake of comparison with a similar [example for the window method](../filter_design/window_method.ipynb#Example:-Causal-linear-phase-approximation-of-ideal-low-pass), we choose a type 1 filter with odd filter length $N$, $\\alpha = \\frac{N-1}{2}$ and $\\beta = 0$. The desired frequency response $H_\\text{d}[\\mu]$ is given by sampling of\n",
    "\n",
    "\\begin{equation}\n",
    "H_\\text{d}(\\mathrm{e}^{\\,\\mathrm{j}\\,\\Omega}) = \\mathrm{e}^{\\,-\\mathrm{j} \\frac{N-1}{2} \\Omega} \\cdot \\begin{cases}\n",
    "1 & \\text{for } |\\Omega| \\leq \\Omega_\\text{c} \\\\\n",
    "0 & \\text{otherwise}\n",
    "\\end{cases},\n",
    "\\end{equation}\n",
    "\n",
    "which is defined for $|\\Omega| < \\pi$. Note that for equiangular sampling on the unit circle with $0 \\leq \\Omega < 2 \\pi$, the periodicity $H_\\text{d}(\\mathrm{e}^{\\,\\mathrm{j}\\,\\Omega}) = H_\\text{d}(\\mathrm{e}^{\\,\\mathrm{j}(\\Omega+ n 2 \\pi)})$ for $n \\in \\mathbb{Z}$ has to be considered."
   ]
  },
  {
   "cell_type": "code",
   "execution_count": null,
   "metadata": {},
   "outputs": [],
   "source": [
    "N = 2**5+1  # length of filter\n",
    "Omc = 2*np.pi/33*5.5  # corner frequency of low-pass\n",
    "\n",
    "# specify desired frequency response\n",
    "Ommu = 2*np.pi/N*np.arange(N)\n",
    "Hd = np.zeros(N)\n",
    "Hd[Ommu <= Omc] = 1\n",
    "Hd[Ommu >= (2*np.pi-Omc)] = 1\n",
    "Hd = Hd * np.exp(-1j*Ommu*(N-1)/2)\n",
    "\n",
    "# compute impulse response of filter\n",
    "h = np.fft.ifft(Hd)\n",
    "h = np.real(h)  # due to round-off errors\n",
    "# compute frequency response of filter\n",
    "Om, H = sig.freqz(h, worN=8192)\n",
    "\n",
    "# plot impulse response\n",
    "plt.figure(figsize=(10, 3))\n",
    "plt.stem(h, use_line_collection=True, basefmt='C0:')\n",
    "plt.title('Impulse response')\n",
    "plt.xlabel(r'$k$')\n",
    "plt.ylabel(r'$h[k]$')\n",
    "plt.grid(True)\n",
    "# plot frequency response\n",
    "plt.figure(figsize=(10, 3))\n",
    "plt.plot([0, Omc, Omc], [1, 1, 0], 'C3--')\n",
    "plt.stem(Ommu, np.abs(Hd), label=r'desired $|H_d[\\mu]|$',\n",
    "         use_line_collection=True, basefmt='C1:', linefmt='C1:', markerfmt='C1o')\n",
    "plt.plot(Om, np.abs(H), 'C0-', label=r'designed $|H(e^{j \\Omega})|$')\n",
    "plt.title('Magnitude response of desired and designed filter')\n",
    "plt.xlabel(r'$\\Omega$ in rad')\n",
    "plt.ylabel(r'$|H(\\Omega)|$')\n",
    "plt.legend()\n",
    "plt.axis([0, np.pi, -0.05, 1.5])\n",
    "plt.grid(True)\n",
    "# plot phase\n",
    "plt.figure(figsize=(10, 3))\n",
    "plt.plot(Om, np.unwrap(np.angle(H)))\n",
    "plt.title('Phase of designed filter')\n",
    "plt.xlabel(r'$\\Omega$ in rad')\n",
    "plt.ylabel(r'$\\varphi(\\Omega)$ in rad')\n",
    "plt.grid(True)"
   ]
  },
  {
   "cell_type": "markdown",
   "metadata": {},
   "source": [
    "**Exercises**\n",
    "\n",
    "* Does the designed filter have the desired linear phase?\n",
    "* Increase the length `N` of the filter. What is different to the previous example?\n",
    "* How could the method be modified to change the properties of the frequency response?\n",
    "* Instead of plotting magnitude over frequency, check the level response (dB) and compare this with the windowing method example.\n",
    "\n",
    "Solution: The designed filter has the desired linear phase in the pass-band, here below $\\Omega \\approx \\frac{\\pi}{3}$. Increasing the length `N` of the filter results in a better approximation of the desired ideal low-pass, especially in a higher attenuation in the stop-band. A window function could be applied to the impulse response of the designed filter in order to modify its properties."
   ]
  },
  {
   "cell_type": "code",
   "execution_count": null,
   "metadata": {},
   "outputs": [],
   "source": [
    "# plot frequency response\n",
    "Hd[Hd==0]=1e-16\n",
    "H[H==0]=1e-16\n",
    "plt.figure(figsize=(10, 3))\n",
    "plt.plot([0, Omc, Omc], [0, 0, -100], 'C3--')\n",
    "plt.plot(Ommu, 20*np.log10(np.abs(Hd)), 'C1o', label=r'desired $|H_d[\\mu]|$')\n",
    "plt.plot(Om, 20*np.log10(np.abs(H)), 'C0-', label=r'designed $|H(e^{j \\Omega})|$')\n",
    "plt.title('Magnitude response of desired and designed filter')\n",
    "plt.xlabel(r'$\\Omega$ in rad')\n",
    "plt.ylabel(r'$|H(\\Omega)|$')\n",
    "plt.legend()\n",
    "plt.axis([0, np.pi, -100, 3])\n",
    "plt.grid(True)"
   ]
  },
  {
   "cell_type": "markdown",
   "metadata": {},
   "source": [
    "### Comparison to Window Method\n",
    "\n",
    "For a comparison of the frequency sampling to the [window method](../filter_design/window_method.ipynb) it is assumed that the desired frequency response $H_\\text{d}(\\mathrm{e}^{\\,\\mathrm{j}\\,\\Omega})$ is given. The coefficients $h[k]$ of an FIR approximation are then computed as follows:\n",
    "\n",
    "1. Window Method\n",
    "\\begin{align}\n",
    "h_\\text{d}[k] &= \\mathcal{F}_{*}^{-1} \\{ H_\\text{d}(\\mathrm{e}^{\\,\\mathrm{j}\\,\\Omega}) \\} \\\\\n",
    "h[k] &= h_\\text{d}[k] \\cdot w[k]\n",
    "\\end{align}\n",
    "\n",
    "2. Frequency Sampling Method\n",
    "\\begin{align}\n",
    "H_\\text{d}[\\mu] &= H_\\text{d}(\\mathrm{e}^{\\,\\mathrm{j} \\frac{2 \\pi}{N} \\mu}) \\\\\n",
    "h[k] &= \\text{DFT}_N^{-1} \\{ H_\\text{d}[\\mu] \\}\n",
    "\\end{align}\n",
    "\n",
    "For finite lengths $N$, the difference between both methods is related to the periodicity of the DFT. For a desired frequency response $H_\\text{d}(\\mathrm{e}^{\\,\\mathrm{j}\\,\\Omega})$ which does not result in a FIR $h_\\text{d}[k]$ of length $N$, the inverse DFT in the frequency sampling method will suffer from time-domain aliasing. In the general case, filter coefficients computed by the window and frequency sampling method will hence differ.\n",
    "\n",
    "However, for a rectangular window $w[k]$ and $N \\to \\infty$ both methods will become equivalent. Hence, an oversampled frequency sampling method can be motivated, where $H_\\text{d}(\\mathrm{e}^{\\,\\mathrm{j}\\,\\Omega})$ is sampled at $M \\gg N$ points in order to derive an approximation of $h_\\text{d}[k]$ which is then windowed to the target length $N$. The method is beneficial in cases where a closed-form inverse DTFT of $H_\\text{d}(\\mathrm{e}^{\\,\\mathrm{j}\\,\\Omega})$, as required for the window method, cannot be found."
   ]
  },
  {
   "cell_type": "markdown",
   "metadata": {},
   "source": [
    "#### Example: Oversampled frequency sampling method\n",
    "\n",
    "We consider the design of a linear-phase approximation of an ideal low-pass filter using the oversampled frequency sampling method. For the sake of comparison, the parameters have been chosen in accordance to a [similar example using the window method](../filter_design/window_method.ipynb#Example:-Causal-linear-phase-approximation-of-ideal-low-pass). Using $H_\\text{d}(\\mathrm{e}^{\\,\\mathrm{j}\\,\\Omega})$ from the previous example in this section, the filter is computed by\n",
    "\n",
    "1. (Over)-Sampling the desired response at $M$ frequencies\n",
    "\\begin{equation}\n",
    "H_\\text{d}[\\mu] = H_\\text{d}(\\mathrm{e}^{\\,\\mathrm{j} \\frac{2 \\pi}{M} \\mu})\n",
    "\\end{equation}\n",
    "\n",
    "2. Inverse DFT of length $M$\n",
    "\\begin{equation}\n",
    "h[k] = \\text{DFT}_M^{-1} \\{ H_\\text{d}[\\mu] \\}\n",
    "\\end{equation}\n",
    "\n",
    "3. Windowing to desired length $N$\n",
    "\\begin{equation}\n",
    "h[k] = h_\\text{d}[k] \\cdot w[k]\n",
    "\\end{equation}\n",
    "\n"
   ]
  },
  {
   "cell_type": "code",
   "execution_count": null,
   "metadata": {},
   "outputs": [],
   "source": [
    "N = 2**5+1  # length of filter\n",
    "Omc = 2*np.pi/33*5.5  # corner frequency of low-pass\n",
    "M = 2**13+1  # number of frequency samples\n",
    "\n",
    "# specify desired frequency response\n",
    "Ommu = 2*np.pi/M*np.arange(M)\n",
    "Hd = np.zeros(M)\n",
    "Hd[Ommu <= Omc] = 1\n",
    "Hd[Ommu >= (2*np.pi-Omc)] = 1\n",
    "Hd = Hd * np.exp(-1j*Ommu*(N-1)/2)\n",
    "\n",
    "# compute impulse response of filter\n",
    "h = np.fft.ifft(Hd)\n",
    "h = np.real(h)  # due to round-off errors\n",
    "h = h[0:N]  # rectangular window\n",
    "# compute frequency response of filter\n",
    "Om, H = sig.freqz(h, worN=8192)\n",
    "\n",
    "# plot impulse response\n",
    "plt.figure(figsize=(10, 3))\n",
    "plt.stem(h, use_line_collection=True, basefmt='C0:')\n",
    "plt.title('Impulse response')\n",
    "plt.xlabel(r'$k$')\n",
    "plt.ylabel(r'$h[k]$')\n",
    "plt.grid(True)\n",
    "# plot frequency response\n",
    "plt.figure(figsize=(10, 3))\n",
    "plt.plot(Om, 20 * np.log10(abs(H)), label='rectangular window')\n",
    "plt.plot([0, Omc, Omc], [0, 0, -100], 'C3--')\n",
    "plt.title('Magnitude response of designed filter')\n",
    "plt.xlabel(r'$\\Omega$ in rad')\n",
    "plt.ylabel(r'$|H(e^{j \\Omega})|$ in dB')\n",
    "plt.axis([0, np.pi, -100, 3])\n",
    "plt.legend()\n",
    "plt.grid(True)\n",
    "# plot phase\n",
    "plt.figure(figsize=(10, 3))\n",
    "plt.plot(Om, np.unwrap(np.angle(H)))\n",
    "plt.title('Phase of designed filter')\n",
    "plt.xlabel(r'$\\Omega$ in rad')\n",
    "plt.ylabel(r'$\\varphi(\\Omega)$ in rad')\n",
    "plt.grid(True)"
   ]
  },
  {
   "cell_type": "markdown",
   "metadata": {},
   "source": [
    "**Exercises**\n",
    "\n",
    "* Compare the designed filter and its properties to the [same design using the window method](../filter_design/window_method.ipynb#Example:-Causal-linear-phase-approximation-of-ideal-low-pass).\n",
    "* Change the number of samples `M` used for (over)sampling the desired response. What changes if you increase/decrease `M`?\n",
    "\n",
    "Solution: Comparison of above results to the window method (with a rectangular window) reveals that both provide a similar performance in terms of achievable stop-band attenuation. Increasing `M` in above example does not result in obvious changes since the initial choice constitutes already a high amount of oversampling. However, decreasing `M` till it is the range of the filter length `N` results in a smooth degradation of the performance towards the original (not oversampled) frequency sampling method. In the chosen example the passband ripple and side lobe level increase when decreasing `M`."
   ]
  },
  {
   "cell_type": "markdown",
   "metadata": {
    "nbsphinx": "hidden"
   },
   "source": [
    "**Copyright**\n",
    "\n",
    "This notebook is provided as [Open Educational Resource](https://en.wikipedia.org/wiki/Open_educational_resources). Feel free to use the notebook for your own purposes. The text is licensed under [Creative Commons Attribution 4.0](https://creativecommons.org/licenses/by/4.0/), the code of the IPython examples under the [MIT license](https://opensource.org/licenses/MIT). Please attribute the work as follows: *Sascha Spors, Digital Signal Processing - Lecture notes featuring computational examples*."
   ]
  }
 ],
 "metadata": {
  "anaconda-cloud": {},
  "kernelspec": {
   "display_name": "Python 3",
   "language": "python",
   "name": "python3"
  },
  "language_info": {
   "codemirror_mode": {
    "name": "ipython",
    "version": 3
   },
   "file_extension": ".py",
   "mimetype": "text/x-python",
   "name": "python",
   "nbconvert_exporter": "python",
   "pygments_lexer": "ipython3",
   "version": "3.7.5"
  }
 },
 "nbformat": 4,
 "nbformat_minor": 1
}

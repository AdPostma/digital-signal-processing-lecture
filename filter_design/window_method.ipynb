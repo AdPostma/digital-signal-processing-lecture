{
 "cells": [
  {
   "cell_type": "markdown",
   "metadata": {
    "nbsphinx": "hidden"
   },
   "source": [
    "# Design of Digital Filters\n",
    "\n",
    "*This jupyter notebook is part of a [collection of notebooks](../index.ipynb) on various topics of Digital Signal Processing. Please direct questions and suggestions to [Sascha.Spors@uni-rostock.de](mailto:Sascha.Spors@uni-rostock.de).*"
   ]
  },
  {
   "cell_type": "markdown",
   "metadata": {},
   "source": [
    "## Design of Non-Recursive Filters using the Window Method\n",
    "\n",
    "The design of non-recursive filters with a finite-length impulse response (FIR) is a frequent task in practical applications. The designed filter should approximate a prescribed frequency response as close as possible. First, the design of causal filters is considered. For many applications the resulting filter should have a linear phase characteristic since this results in a constant (frequency independent) group delay. We therefore specialize the design to causal linear-phase filters in a second step."
   ]
  },
  {
   "cell_type": "markdown",
   "metadata": {},
   "source": [
    "### Causal Filters\n",
    "\n",
    "Let's assume that the desired frequency characteristic of the discrete filter is given by its continuous frequency response $H_\\text{d}(\\mathrm{e}^{\\,\\mathrm{j}\\,\\Omega})$ in the discrete-time Fourier domain. Its impulse response is given by inverse discrete-time Fourier transform (inverse DTFT) of the frequency response\n",
    "\n",
    "\\begin{equation}\n",
    "h_\\text{d}[k] = \\frac{1}{2 \\pi} \\int\\limits_{- \\pi}^{\\pi} H_\\text{d}(\\mathrm{e}^{\\,\\mathrm{j}\\,\\Omega}) \\, \\mathrm{e}^{\\,\\mathrm{j}\\,\\Omega\\,k} \\; \\mathrm{d}\\Omega.\n",
    "\\end{equation}\n",
    "\n",
    "In the general case, $h_\\text{d}[k]$ will not be a causal FIR. The [Paley-Wiener theorem](https://en.wikipedia.org/wiki/Paley%E2%80%93Wiener_theorem) states, that the transfer function of a causal system may only have zeros at a countable number of single frequencies. This is not the case for idealized filters, like e.g. the [ideal low-pass filter](https://en.wikipedia.org/wiki/Low-pass_filter#Ideal_and_real_filters), were the transfer function has zeros over an interval of frequencies."
   ]
  },
  {
   "cell_type": "markdown",
   "metadata": {},
   "source": [
    "The basic idea of the window method is to truncate the impulse response $h_\\text{d}[k]$ in order to derive a causal FIR filter. This can be achieved by applying a window $w[k]$ of finite length $N$ to $h_\\text{d}[k]$\n",
    "\n",
    "\\begin{equation}\n",
    "h[k] = h_\\text{d}[k] \\cdot w[k],\n",
    "\\end{equation}\n",
    "\n",
    "where $h[k]$ denotes the impulse response of the designed filter and $w[k] = 0$ for $k < 0 \\land k \\geq N$. Its frequency response $H(\\mathrm{e}^{\\,\\mathrm{j}\\,\\Omega})$ is given by the multiplication theorem of the discrete-time Fourier transform (DTFT)\n",
    "\n",
    "\\begin{equation}\n",
    "H(\\mathrm{e}^{\\,\\mathrm{j}\\,\\Omega}) = \\frac{1}{2 \\pi} \\; H_\\text{d}(\\mathrm{e}^{\\,\\mathrm{j}\\,\\Omega}) \\circledast W(\\mathrm{e}^{\\,\\mathrm{j}\\,\\Omega}),\n",
    "\\end{equation}\n",
    "\n",
    "where $W(\\mathrm{e}^{\\,\\mathrm{j}\\,\\Omega})$ denotes the DTFT of the window function $w[k]$. The frequency response $H(\\mathrm{e}^{\\,\\mathrm{j}\\,\\Omega})$ of the filter is given as the periodic convolution of the desired frequency response $H_\\text{d}(\\mathrm{e}^{\\,\\mathrm{j}\\,\\Omega})$ and the frequency response of the window function $W(\\mathrm{e}^{\\,\\mathrm{j}\\,\\Omega})$. The frequency response $H(\\mathrm{e}^{\\,\\mathrm{j}\\,\\Omega})$ is equal to the desired frequency response $H_\\text{d}(\\mathrm{e}^{\\,\\mathrm{j}\\,\\Omega})$ only if $W(\\mathrm{e}^{\\,\\mathrm{j}\\,\\Omega}) = 2 \\pi \\cdot \\delta(\\Omega)$. This would require that $w[k] = 1$ for $k = -\\infty, \\dots, \\infty$, i.e. the case of infinite length. Hence, for a window $w[k]$ of finite length, deviations from the desired frequency response are to be expected due to the convolution."
   ]
  },
  {
   "cell_type": "markdown",
   "metadata": {},
   "source": [
    "In order to investigate the effect of truncation on the frequency response $H(\\mathrm{e}^{\\,\\mathrm{j}\\,\\Omega})$, a particular window is considered. A straightforward (and analytically comparably easy to handle) choice is the rectangular window $w[k] = \\text{rect}_N[k]$ of length $N$. Its DTFT is given as\n",
    "\n",
    "\\begin{equation}\n",
    "W(\\mathrm{e}^{\\,\\mathrm{j}\\,\\Omega}) = \\mathrm{e}^{-\\mathrm{j} \\, \\Omega \\,\\frac{N-1}{2}} \\cdot \\frac{\\sin(\\frac{N \\,\\Omega}{2})}{\\sin(\\frac{\\Omega}{2})}.\n",
    "\\end{equation}\n",
    "\n",
    "The frequency-domain properties of the rectangular window have already been discussed for the DFT's [leakage effect](../spectral_analysis_deterministic_signals/leakage_effect.ipynb). For certain $N$, the rectangular window features the narrowest possible main lobe at the cost of the highest sidelobe level compared to other windows of length $N$. The main lobe gets narrower with increasing length $N$. The convolution of the desired frequency response with the frequency response of the window function effectively yields smoothing and ringing in the resulting frequency response. While the main lobe will smooth discontinuities of the desired transfer function, the sidelobes result in undesirable ringing effects. The latter can be alleviated by using other window functions that have smaller sidelobes. Note that typical [window functions](../spectral_analysis_deterministic_signals/window_functions.ipynb) decay towards their ends and are symmetric with respect to their center. This may cause problems for desired impulse responses with large magnitudes towards their ends."
   ]
  },
  {
   "cell_type": "markdown",
   "metadata": {},
   "source": [
    "#### Example - Causal approximation of ideal low-pass\n",
    "\n",
    "The design of an ideal low-pass filter using the window method is illustrated in the following. For $|\\Omega| < \\pi$ the transfer function of the ideal low-pass is given as\n",
    "\n",
    "\\begin{equation}\n",
    "H_\\text{d}(\\mathrm{e}^{\\,\\mathrm{j}\\,\\Omega}) = \\begin{cases}\n",
    "1 & \\text{for } |\\Omega| \\leq \\Omega_\\text{c} \\\\\n",
    "0 & \\text{otherwise}\n",
    "\\end{cases},\n",
    "\\end{equation}\n",
    "\n",
    "where $\\Omega_\\text{c}$ denotes the cut-off frequency of the low-pass. Note that this filter exhibits zero-phase characteristics, since $H_\\text{d}(\\mathrm{e}^{\\,\\mathrm{j}\\,\\Omega})\\in\\mathbb{R}$. An inverse DTFT of the desired transfer function yields\n",
    "\n",
    "\\begin{equation}\n",
    "h_\\text{d}[k] = \\frac{\\Omega_\\text{c}}{\\pi} \\cdot \\text{sinc}(\\Omega_\\text{c} \\, k).\n",
    "\\end{equation}\n",
    "\n",
    "The impulse response $h_\\text{d}[k]$ is not causal nor FIR and thus useless for practical applications. In order to derive a causal FIR approximation, a rectangular window $w[k]$ of length $N$ is applied\n",
    "\n",
    "\\begin{equation}\n",
    "h[k] = h_\\text{d}[k] \\cdot \\text{rect}_N[k].\n",
    "\\end{equation}\n",
    "\n",
    "The resulting magnitude and phase response is computed numerically in the following."
   ]
  },
  {
   "cell_type": "code",
   "execution_count": null,
   "metadata": {},
   "outputs": [],
   "source": [
    "import numpy as np\n",
    "import matplotlib.pyplot as plt\n",
    "import scipy.signal as sig\n",
    "%matplotlib inline\n",
    "\n",
    "N = 2**5+1  # length of filter\n",
    "Omc = 2*np.pi/33*5.5  # corner frequency of low-pass\n",
    "\n",
    "# compute impulse response\n",
    "k = np.arange(N)\n",
    "# note different definitions for sinc(x) = sin(x)/x vs. sinc(x) = sin(pi x)/(pi x)\n",
    "hd = Omc/np.pi * np.sinc(k*Omc/np.pi)\n",
    "# windowing\n",
    "w = np.ones(N)\n",
    "h = hd * w\n",
    "\n",
    "# frequency response\n",
    "Om, H = sig.freqz(h)\n",
    "\n",
    "# plot impulse response\n",
    "plt.figure(figsize=(10, 3))\n",
    "plt.stem(h, use_line_collection=True, basefmt=':C0')\n",
    "plt.title('Impulse response')\n",
    "plt.xlabel(r'$k$')\n",
    "plt.ylabel(r'$h[k]$')\n",
    "plt.grid()\n",
    "# plot magnitude response as level\n",
    "plt.figure(figsize=(10, 3))\n",
    "plt.plot([0, Omc, Omc], [0, 0, -100], 'C3--', label='desired')\n",
    "plt.plot(Om, 20 * np.log10(abs(H)), label='window method')\n",
    "plt.title('Magnitude response')\n",
    "plt.xlabel(r'$\\Omega$ in rad')\n",
    "plt.ylabel(r'$|H(e^{j \\Omega})|$ in dB')\n",
    "plt.axis([0, np.pi, -20, 3])\n",
    "plt.grid()\n",
    "plt.legend()\n",
    "# plot phase response\n",
    "plt.figure(figsize=(10, 3))\n",
    "plt.plot([0, Om[-1]], [0, 0], 'C3--', label='desired')\n",
    "plt.plot(Om, np.unwrap(np.angle(H)), label='window method')\n",
    "plt.title('Phase response')\n",
    "plt.xlabel(r'$\\Omega$ in rad')\n",
    "plt.ylabel(r'$\\varphi (\\Omega)$ in rad')\n",
    "plt.legend()\n",
    "plt.grid()"
   ]
  },
  {
   "cell_type": "markdown",
   "metadata": {},
   "source": [
    "**Exercises**\n",
    "\n",
    "* Does the resulting filter have the desired phase?\n",
    "* Increase the length `N` of the filter. What changes?\n",
    "\n",
    "Solution: The desired filter has zero-phase for all frequencies, hence $\\varphi_\\text{d}(\\Omega) = 0$. The phase of the resulting filter is not zero as can be concluded from the lower illustration. The small local variations (ripples) in the magnitude $|H(\\mathrm{e}^{\\,\\mathrm{j}\\,\\Omega})|$ of the transfer function of the resulting filter decrease with an increasing number `N` of filter coefficients. The achievable attenuation in the stop-band of the low-pass does not change."
   ]
  },
  {
   "cell_type": "markdown",
   "metadata": {},
   "source": [
    "### Zero-Phase Filters\n",
    "\n",
    "Lets assume a general zero-phase filter with transfer function $H_d(\\mathrm{e}^{\\,\\mathrm{j}\\,\\Omega}) = A(\\mathrm{e}^{\\,\\mathrm{j}\\,\\Omega})$ with magnitude $A(\\mathrm{e}^{\\,\\mathrm{j}\\,\\Omega})  \\in \\mathbb{R}$. Due to the symmetry relations of the DTFT, its impulse response $h_d[k] = \\mathcal{F}_*^{-1} \\{ H_d(e^{j \\Omega} \\}$ is conjugate complex symmetric\n",
    "\n",
    "\\begin{equation}\n",
    "h_d[k] = h_d^*[-k].\n",
    "\\end{equation}\n",
    "\n",
    "A zero-phase filter of length $N > 1$ is not causal as a consequence. The anti-causal part could simply be removed by windowing with a Heaviside signal. However, this will result in large deviations between the desired transfer function and the designed filter. This explains the findings from the previous example, that an ideal-low pass cannot be realized very well by the window method. The reason is that an ideal-low pass has zero-phase, as most of the idealized filters.\n",
    "\n",
    "The impulse response of a stable system, in the sense of the bounded-input/bounded-output (BIBO) criterion, has to be absolutely summable. This is given when the values $h[k]$ decay towards $0$ for $k\\to\\infty$.\n",
    "This observation motivates to shift the peak of the desired (symmetric) impulse response to the center of the window. By that the zero-phase characteristic is replaced with linear-phase characteristics. The filter is of finite length, exhibits constant group delay larger zero and the effect of windowing is reduced. \n",
    "This becomes illustrated below."
   ]
  },
  {
   "cell_type": "markdown",
   "metadata": {},
   "source": [
    "### Causal Linear-Phase Filters\n",
    "\n",
    "The design of a non-recursive causal FIR filter with a linear phase is often desired due to its constant group delay. Note that zero-phase has constant group delay of zero. So to be more precise, we aim at constant group delay larger than zero, to make the filter design feasible for practical applications.\n",
    "\n",
    "Let's assume a filter with generalized linear phase. For $|\\Omega| < \\pi$ its transfer function is given as\n",
    "\n",
    "\\begin{equation}\n",
    "H_\\text{d}(\\mathrm{e}^{\\,\\mathrm{j}\\,\\Omega}) = A(\\mathrm{e}^{\\,\\mathrm{j}\\,\\Omega}) \\cdot \\mathrm{e}^{-\\mathrm{j} \\alpha \\Omega + \\mathrm{j} \\beta},\n",
    "\\end{equation}\n",
    "\n",
    "where $A(\\mathrm{e}^{\\,\\mathrm{j}\\,\\Omega}) \\in \\mathbb{R}$ denotes the amplitude of the filter, $\\alpha$ the linear slope of the phase and $\\beta$ a constant phase offset ($\\alpha,\\beta\\in\\mathbb{R^+}$). Such a system can be decomposed into a cascade of two systems: the zero-phase system with transfer function $A(\\mathrm{e}^{\\,\\mathrm{j}\\,\\Omega})$ in series with the all-pass with phase $\\varphi(\\Omega) = - \\alpha \\Omega + \\beta$. The linear phase term $- \\alpha \\Omega$ results in the constant group delay $t_g(\\Omega) = \\alpha$, due to the definition $t_g(\\Omega) = - \\frac{\\mathrm{d}\\phi(\\Omega)}{\\mathrm{d}\\Omega}$.\n",
    "\n",
    "The impulse response $h[k]$ of a linear-phase system shows a specific symmetry which can be deduced from the symmetry relations of the DTFT for odd/even symmetry of $H_\\text{d}(\\mathrm{e}^{\\,\\mathrm{j}\\,\\Omega})$ as\n",
    "\n",
    "\\begin{equation}\n",
    "h[k] = \\pm h[N-1-k]\n",
    "\\end{equation}\n",
    "\n",
    "for $k=0, 1, \\dots, N-1$ where $N \\in \\mathbb{N}$ denotes the length of the (finite) impulse response. The transfer function of a linear phase filter is given by its DTFT\n",
    "\n",
    "\\begin{equation}\n",
    "H_\\text{d}(\\mathrm{e}^{\\,\\mathrm{j}\\,\\Omega}) = \\sum_{k=0}^{N-1} h[k] \\, \\mathrm{e}^{\\,-\\mathrm{j}\\,\\Omega\\,k}.\n",
    "\\end{equation}\n",
    "\n",
    "Introducing the symmetry relations of the impulse response $h[k]$ into the DTFT and comparing the result with above definition of a generalized linear phase system reveals four different types of linear-phase systems. These can be discriminated with respect to their phase and magnitude characteristics"
   ]
  },
  {
   "cell_type": "markdown",
   "metadata": {},
   "source": [
    "| Type | Length $N$ | Impulse Response $h[k]\\;$ | Group Delay $\\alpha$ in Samples| Constant Phase $\\beta$ | Transfer Function $A(\\mathrm{e}^{\\,\\mathrm{j}\\,\\Omega})$ |\n",
    "| :---:  | :---: | :---: | :---:| :---: | :---: |\n",
    "| 1 | odd | $h[k] = h[N-1-k]$ | $\\alpha = \\frac{N-1}{2} \\in \\mathbb{N}$ | $\\beta = \\{0, \\pi\\}$ | $A(\\mathrm{e}^{\\,\\mathrm{j}\\,\\Omega})=A(\\mathrm{e}^{-\\,\\mathrm{j}\\,\\Omega})$, all filter characteristics|\n",
    "| 2 | even| $h[k] = h[N-1-k]$ | $\\alpha = \\frac{N-1}{2} \\notin \\mathbb{N}$ | $\\beta = \\{0, \\pi\\}$ | $A(\\mathrm{e}^{\\,\\mathrm{j}\\,\\Omega})=A(\\mathrm{e}^{-\\,\\mathrm{j}\\,\\Omega})$, $A(\\mathrm{e}^{\\,\\mathrm{j}\\,\\pi}) = 0$, only lowpass or bandpass|\n",
    "| 3 | odd | $h[k] = -h[N-1-k]$ | $\\alpha = \\frac{N-1}{2} \\in \\mathbb{N}$ | $\\beta = \\{ \\frac{\\pi}{2}, \\frac{3 \\pi}{2} \\}$ | $A(\\mathrm{e}^{\\,\\mathrm{j}\\,\\Omega})=-A(\\mathrm{e}^{-\\,\\mathrm{j}\\,\\Omega})$, $A(\\mathrm{e}^{\\,\\mathrm{j}\\,0}) = A(\\mathrm{e}^{\\,\\mathrm{j}\\,\\pi}) =  0$, only bandpass|\n",
    "| 4 | even | $h[k] = -h[N-1-k]$ | $\\alpha = \\frac{N-1}{2} \\notin \\mathbb{N}$ | $\\beta = \\{ \\frac{\\pi}{2}, \\frac{3 \\pi}{2} \\}$ | $A(\\mathrm{e}^{\\,\\mathrm{j}\\,\\Omega})=-A(\\mathrm{e}^{-\\,\\mathrm{j}\\,\\Omega})$, $A(\\mathrm{e}^{\\,\\mathrm{j}\\,0}) = 0$, only highpass or bandpass|\n",
    "\n",
    "These relations have to be considered in the design of a causal linear phase filter. Depending on the desired magnitude characteristics $A(\\mathrm{e}^{\\,\\mathrm{j}\\,\\Omega})$ the suitable type is chosen. The odd/even length $N$ of the filter and the phase (or group delay) is chosen accordingly for the design of the filter."
   ]
  },
  {
   "cell_type": "markdown",
   "metadata": {},
   "source": [
    "#### Example - Causal linear-phase approximation of ideal low-pass\n",
    "\n",
    "We aim at the design of a causal linear-phase low-pass using the windowing method. According to the previous example, the desired frequency response has an even symmetry $A(\\mathrm{e}^{\\,\\mathrm{j}\\,\\Omega}) = A(\\mathrm{e}^{\\,-\\mathrm{j}\\,\\Omega})$ with $A(\\mathrm{e}^{\\mathrm{j}\\,0}) = 1$. This could be realized by a filter of type 1 or 2. We choose type 1 with $\\beta = 0$. The resulting filter exhibits an integer group delay of $t_g(\\Omega) = \\frac{N-1}{2}$ samples. Consequently the length of the filter $N$ has to be odd. \n",
    "\n",
    "The impulse response $h_\\text{d}[k]$ is given by the inverse DTFT of $H_\\text{d}(\\mathrm{e}^{\\,\\mathrm{j}\\,\\Omega})$ incorporating the linear phase\n",
    "\n",
    "\\begin{equation}\n",
    "h_\\text{d}[k] = \\frac{\\Omega_\\text{c}}{\\pi} \\cdot \\text{sinc} \\left( \\Omega_\\text{c} \\left(k-\\frac{N-1}{2} \\right) \\right).\n",
    "\\end{equation}\n",
    "\n",
    "The impulse response fulfills the desired symmetry for $k=0,1, \\dots, N-1$. A causal FIR approximation is obtained by applying a window function of length $N$ to the impulse response $h_\\text{d}[k]$\n",
    "\n",
    "\\begin{equation}\n",
    "h[k] = h_\\text{d}[k] \\cdot w[k].\n",
    "\\end{equation}\n",
    "\n",
    "Note that the window function $w[k]$ also has to fulfill the desired symmetries. The provided windows of `numpy`are symmetric. The windows in `scipy.signal.windows` have the parameter `sym=True`, which is the default value, but better check symmetry each time you need this. Recapitulate that the case `sym=False` is used in DFT based spectral analysis using windowing.\n",
    "\n",
    "As already outlined, the chosen window determines the properties of the transfer function $H(\\mathrm{e}^{\\,\\mathrm{j}\\,\\Omega})$. The [spectral properties of commonly applied windows](../spectral_analysis_deterministic_signals/window_functions.ipynb) have been discussed previously. The width of the main lobe will generally influence the  smoothing of the desired transfer function $H_\\text{d}(\\mathrm{e}^{\\,\\mathrm{j}\\,\\Omega})$, while the sidelobes influence the typical ringing artifacts. This is illustrated in the following."
   ]
  },
  {
   "cell_type": "code",
   "execution_count": null,
   "metadata": {
    "scrolled": false
   },
   "outputs": [],
   "source": [
    "N = 2**5+1  # length of filter\n",
    "Omc = 2*np.pi/33*5.5  # corner frequency of low-pass\n",
    "\n",
    "# compute impulse response\n",
    "k = np.arange(N)\n",
    "# note different definitions for sinc(x) = sin(x)/x vs. sinc(x) = sin(pi x)/(pi x)\n",
    "hd = Omc/np.pi * np.sinc((k-(N-1)/2)*Omc/np.pi)\n",
    "# windowing\n",
    "h1 = hd * np.ones(N)\n",
    "# highest side lobe controlled to -70 dB by beta of Kaiser-Bessel window\n",
    "sll = -70  # highest allowed side lobe level in dB\n",
    "h2 = hd * np.kaiser(N, beta=0.1102*(-sll-8.7))  # beta approx for ssl<-50 dB\n",
    "\n",
    "# frequency responses\n",
    "Om, H1 = sig.freqz(h1, worN=8192)\n",
    "Om, H2 = sig.freqz(h2, worN=8192)\n",
    "\n",
    "# plot impulse response\n",
    "plt.figure(figsize=(10, 3))\n",
    "plt.stem(h1, use_line_collection=True, basefmt='C0:',\n",
    "         linefmt='C0', markerfmt='C0o', label='rectangular window')\n",
    "plt.stem(h2, use_line_collection=True, basefmt='C1:',\n",
    "         linefmt='C1:', markerfmt='C1d', label='Kaiser-Bessel window')\n",
    "plt.title('Impulse response')\n",
    "plt.xlabel(r'$k$')\n",
    "plt.ylabel(r'$h[k]$')\n",
    "plt.legend()\n",
    "plt.grid(True)\n",
    "# plot magnitude response\n",
    "plt.figure(figsize=(10, 3))\n",
    "plt.plot([0, Omc, Omc], [0, 0, -300], 'C3--', label='desired')\n",
    "plt.plot([0, np.pi], [-6, -6], 'C2', label='-6 dB cut-off')\n",
    "plt.plot([0, np.pi], [sll, sll], 'C7', label='sidelobe level')\n",
    "plt.plot(Om, 20 * np.log10(abs(H1)), label='rectangular window')\n",
    "plt.plot(Om, 20 * np.log10(abs(H2)), label='Kaiser-Bessel window')\n",
    "plt.title('Magnitude response')\n",
    "plt.xlabel(r'$\\Omega$ in rad')\n",
    "plt.ylabel(r'$|H(e^{j \\Omega})|$ in dB')\n",
    "plt.axis([0, np.pi, -100, 3])\n",
    "plt.legend(loc=3)\n",
    "plt.grid()\n",
    "# plot phase response\n",
    "plt.figure(figsize=(10, 3))\n",
    "plt.plot(Om, np.unwrap(np.angle(H1)), label='rectangular window')\n",
    "plt.plot(Om, np.unwrap(np.angle(H2)), label='Kaiser-Bessel window')\n",
    "plt.title('Phase response')\n",
    "plt.xlabel(r'$\\Omega$ in rad')\n",
    "plt.ylabel(r'$\\varphi (\\Omega)$ in rad')\n",
    "plt.legend(loc=3)\n",
    "plt.grid()"
   ]
  },
  {
   "cell_type": "markdown",
   "metadata": {},
   "source": [
    "**Exercises**\n",
    "\n",
    "* Does the impulse responses fulfill the required symmetries for a type 1 filter?\n",
    "* Can you explain the differences between the magnitude responses $|H(\\mathrm{e}^{\\,\\mathrm{j}\\,\\Omega})|$ for the different window functions?\n",
    "* What happens if you increase the length `N` of the filter?\n",
    "\n",
    "Solution: Inspection of the impulse response reveals that it shows the symmetry $h[k] = h[N-1-k]$ of a type 1 filter for odd `N`. The rectangular window features a narrow main lobe at the cost of a high level of the side lobes, the main lobe of the Kaiser-Bessel window is wider but the level of the side lobes is much lower compared to the rectangular window. Since the Kaiser-Bessel window is a parametrizable window, we can even control the the maximum side lobe level with the parameter $\\beta$, here to -70 dB.\n",
    "\n",
    "This explains the behavior of the magnitude responses $|H(\\mathrm{e}^{\\,\\mathrm{j}\\,\\Omega})|$ in the stop-band of the realized low-passes. The distance between the local minima in the magnitude responses $|H(\\mathrm{e}^{\\,\\mathrm{j}\\,\\Omega})|$ decreases with increasing length `N` and the attenuation for frequencies towards the Nyquist frequency increases."
   ]
  },
  {
   "cell_type": "markdown",
   "metadata": {
    "nbsphinx": "hidden"
   },
   "source": [
    "**Copyright**\n",
    "\n",
    "This notebook is provided as [Open Educational Resource](https://en.wikipedia.org/wiki/Open_educational_resources). Feel free to use the notebook for your own purposes. The text is licensed under [Creative Commons Attribution 4.0](https://creativecommons.org/licenses/by/4.0/), the code of the IPython examples under the [MIT license](https://opensource.org/licenses/MIT). Please attribute the work as follows: *Sascha Spors, Digital Signal Processing - Lecture notes featuring computational examples*."
   ]
  }
 ],
 "metadata": {
  "kernelspec": {
   "display_name": "Python 3",
   "language": "python",
   "name": "python3"
  },
  "language_info": {
   "codemirror_mode": {
    "name": "ipython",
    "version": 3
   },
   "file_extension": ".py",
   "mimetype": "text/x-python",
   "name": "python",
   "nbconvert_exporter": "python",
   "pygments_lexer": "ipython3",
   "version": "3.7.5"
  }
 },
 "nbformat": 4,
 "nbformat_minor": 1
}
